{
 "cells": [
  {
   "cell_type": "markdown",
   "metadata": {},
   "source": [
    "## Project Objective"
   ]
  },
  {
   "cell_type": "markdown",
   "metadata": {},
   "source": [
    "##### The  of this project is to build a model that can predict the probability of heart disease occurrence, based on a combination of features that describes the disease.Machine Learning can play an essential role in predecting presence/absence of Locomotor disorders,Heart diseases and more.\n",
    "##### The dataset used in this project contains 4 databases concerning heart disease diagnosis. All attributes are numeric-valued. The data was collected from the four following locations:\n",
    "\n",
    " 1. Cleveland Clinic Foundation (cleveland.data)\n",
    " 2. Hungarian Institute of Cardiology, Budapest (hungarian.data)\n",
    " 3. V.A. Medical Center, Long Beach, CA (long-beach-va.data)\n",
    " 4. University Hospital, Zurich, Switzerland (switzerland.data)\n",
    " \n",
    "##### Each database has the same instance format. While the databases have 76 raw attributes, only 14 of them are actually used."
   ]
  },
  {
   "cell_type": "markdown",
   "metadata": {},
   "source": [
    "### Importing Libraries"
   ]
  },
  {
   "cell_type": "code",
   "execution_count": 1,
   "metadata": {},
   "outputs": [],
   "source": [
    "import pandas as pd\n",
    "import numpy as np\n",
    "from sklearn.model_selection import train_test_split\n",
    "import matplotlib.pyplot as plt"
   ]
  },
  {
   "cell_type": "markdown",
   "metadata": {},
   "source": [
    "###                                                            Title: Heart Disease Databases"
   ]
  },
  {
   "cell_type": "markdown",
   "metadata": {},
   "source": [
    "### Problem Statement\n",
    "Patients suffering from heart diseases need a heart attack detection system to have a urgent treatment before it’s too late.\n",
    "This model is aiming to predict the probability that a given patient x will be diagnosed as heart disease, and predict the weights of the features on finding the probability."
   ]
  },
  {
   "cell_type": "markdown",
   "metadata": {},
   "source": [
    "### Dataset"
   ]
  },
  {
   "cell_type": "code",
   "execution_count": 2,
   "metadata": {},
   "outputs": [],
   "source": [
    "df=pd.read_csv(r'C:\\Users\\nEW u\\Desktop\\data.csv')"
   ]
  },
  {
   "cell_type": "code",
   "execution_count": 3,
   "metadata": {},
   "outputs": [
    {
     "data": {
      "text/html": [
       "<div>\n",
       "<style scoped>\n",
       "    .dataframe tbody tr th:only-of-type {\n",
       "        vertical-align: middle;\n",
       "    }\n",
       "\n",
       "    .dataframe tbody tr th {\n",
       "        vertical-align: top;\n",
       "    }\n",
       "\n",
       "    .dataframe thead th {\n",
       "        text-align: right;\n",
       "    }\n",
       "</style>\n",
       "<table border=\"1\" class=\"dataframe\">\n",
       "  <thead>\n",
       "    <tr style=\"text-align: right;\">\n",
       "      <th></th>\n",
       "      <th>age</th>\n",
       "      <th>sex</th>\n",
       "      <th>cp</th>\n",
       "      <th>trestbps</th>\n",
       "      <th>chol</th>\n",
       "      <th>fbs</th>\n",
       "      <th>restecg</th>\n",
       "      <th>thalach</th>\n",
       "      <th>exang</th>\n",
       "      <th>oldpeak</th>\n",
       "      <th>slope</th>\n",
       "      <th>ca</th>\n",
       "      <th>thal</th>\n",
       "      <th>num</th>\n",
       "    </tr>\n",
       "  </thead>\n",
       "  <tbody>\n",
       "    <tr>\n",
       "      <th>0</th>\n",
       "      <td>28</td>\n",
       "      <td>1</td>\n",
       "      <td>2</td>\n",
       "      <td>130</td>\n",
       "      <td>132</td>\n",
       "      <td>0</td>\n",
       "      <td>2</td>\n",
       "      <td>185</td>\n",
       "      <td>0</td>\n",
       "      <td>0.0</td>\n",
       "      <td>?</td>\n",
       "      <td>?</td>\n",
       "      <td>?</td>\n",
       "      <td>0</td>\n",
       "    </tr>\n",
       "    <tr>\n",
       "      <th>1</th>\n",
       "      <td>29</td>\n",
       "      <td>1</td>\n",
       "      <td>2</td>\n",
       "      <td>120</td>\n",
       "      <td>243</td>\n",
       "      <td>0</td>\n",
       "      <td>0</td>\n",
       "      <td>160</td>\n",
       "      <td>0</td>\n",
       "      <td>0.0</td>\n",
       "      <td>?</td>\n",
       "      <td>?</td>\n",
       "      <td>?</td>\n",
       "      <td>0</td>\n",
       "    </tr>\n",
       "  </tbody>\n",
       "</table>\n",
       "</div>"
      ],
      "text/plain": [
       "   age  sex  cp trestbps chol fbs restecg thalach exang  oldpeak slope ca  \\\n",
       "0   28    1   2      130  132   0       2     185     0      0.0     ?  ?   \n",
       "1   29    1   2      120  243   0       0     160     0      0.0     ?  ?   \n",
       "\n",
       "  thal  num         \n",
       "0    ?           0  \n",
       "1    ?           0  "
      ]
     },
     "execution_count": 3,
     "metadata": {},
     "output_type": "execute_result"
    }
   ],
   "source": [
    "df.head(2)"
   ]
  },
  {
   "cell_type": "code",
   "execution_count": 4,
   "metadata": {},
   "outputs": [
    {
     "data": {
      "text/plain": [
       "294"
      ]
     },
     "execution_count": 4,
     "metadata": {},
     "output_type": "execute_result"
    }
   ],
   "source": [
    "len(df)"
   ]
  },
  {
   "cell_type": "code",
   "execution_count": 5,
   "metadata": {},
   "outputs": [],
   "source": [
    "df=df.replace(r'\\\\N',np.nan,regex=True)"
   ]
  },
  {
   "cell_type": "code",
   "execution_count": 6,
   "metadata": {},
   "outputs": [
    {
     "data": {
      "text/plain": [
       "age           0\n",
       "sex           0\n",
       "cp            0\n",
       "trestbps      0\n",
       "chol          0\n",
       "fbs           0\n",
       "restecg       0\n",
       "thalach       0\n",
       "exang         0\n",
       "oldpeak       0\n",
       "slope         0\n",
       "ca            0\n",
       "thal          0\n",
       "num           0\n",
       "dtype: int64"
      ]
     },
     "execution_count": 6,
     "metadata": {},
     "output_type": "execute_result"
    }
   ],
   "source": [
    "df.isnull().sum()"
   ]
  },
  {
   "cell_type": "markdown",
   "metadata": {},
   "source": [
    "### Features Description"
   ]
  },
  {
   "cell_type": "code",
   "execution_count": 7,
   "metadata": {},
   "outputs": [
    {
     "data": {
      "text/plain": [
       "age             int64\n",
       "sex             int64\n",
       "cp              int64\n",
       "trestbps       object\n",
       "chol           object\n",
       "fbs            object\n",
       "restecg        object\n",
       "thalach        object\n",
       "exang          object\n",
       "oldpeak       float64\n",
       "slope          object\n",
       "ca             object\n",
       "thal           object\n",
       "num             int64\n",
       "dtype: object"
      ]
     },
     "execution_count": 7,
     "metadata": {},
     "output_type": "execute_result"
    }
   ],
   "source": [
    "df.dtypes"
   ]
  },
  {
   "cell_type": "code",
   "execution_count": 8,
   "metadata": {},
   "outputs": [
    {
     "data": {
      "text/plain": [
       "<bound method NDFrame.describe of      age  sex  cp trestbps chol fbs restecg thalach exang  oldpeak slope ca  \\\n",
       "0     28    1   2      130  132   0       2     185     0      0.0     ?  ?   \n",
       "1     29    1   2      120  243   0       0     160     0      0.0     ?  ?   \n",
       "2     29    1   2      140    ?   0       0     170     0      0.0     ?  ?   \n",
       "3     30    0   1      170  237   0       1     170     0      0.0     ?  ?   \n",
       "4     31    0   2      100  219   0       1     150     0      0.0     ?  ?   \n",
       "5     32    0   2      105  198   0       0     165     0      0.0     ?  ?   \n",
       "6     32    1   2      110  225   0       0     184     0      0.0     ?  ?   \n",
       "7     32    1   2      125  254   0       0     155     0      0.0     ?  ?   \n",
       "8     33    1   3      120  298   0       0     185     0      0.0     ?  ?   \n",
       "9     34    0   2      130  161   0       0     190     0      0.0     ?  ?   \n",
       "10    34    1   2      150  214   0       1     168     0      0.0     ?  ?   \n",
       "11    34    1   2       98  220   0       0     150     0      0.0     ?  ?   \n",
       "12    35    0   1      120  160   0       1     185     0      0.0     ?  ?   \n",
       "13    35    0   4      140  167   0       0     150     0      0.0     ?  ?   \n",
       "14    35    1   2      120  308   0       2     180     0      0.0     ?  ?   \n",
       "15    35    1   2      150  264   0       0     168     0      0.0     ?  ?   \n",
       "16    36    1   2      120  166   0       0     180     0      0.0     ?  ?   \n",
       "17    36    1   3      112  340   0       0     184     0      1.0     2  ?   \n",
       "18    36    1   3      130  209   0       0     178     0      0.0     ?  ?   \n",
       "19    36    1   3      150  160   0       0     172     0      0.0     ?  ?   \n",
       "20    37    0   2      120  260   0       0     130     0      0.0     ?  ?   \n",
       "21    37    0   3      130  211   0       0     142     0      0.0     ?  ?   \n",
       "22    37    0   4      130  173   0       1     184     0      0.0     ?  ?   \n",
       "23    37    1   2      130  283   0       1      98     0      0.0     ?  ?   \n",
       "24    37    1   3      130  194   0       0     150     0      0.0     ?  ?   \n",
       "25    37    1   4      120  223   0       0     168     0      0.0     ?  ?   \n",
       "26    37    1   4      130  315   0       0     158     0      0.0     ?  ?   \n",
       "27    38    0   2      120  275   ?       0     129     0      0.0     ?  ?   \n",
       "28    38    1   2      140  297   0       0     150     0      0.0     ?  ?   \n",
       "29    38    1   3      145  292   0       0     130     0      0.0     ?  ?   \n",
       "..   ...  ...  ..      ...  ...  ..     ...     ...   ...      ...   ... ..   \n",
       "264   52    1   4      160  246   0       1      82     1      4.0     2  ?   \n",
       "265   53    1   3      145  518   0       0     130     0      0.0     ?  ?   \n",
       "266   53    1   4      180  285   0       1     120     1      1.5     2  ?   \n",
       "267   54    1   4      140  216   0       0     105     0      1.5     2  ?   \n",
       "268   55    1   1      140  295   0       ?     136     0      0.0     ?  ?   \n",
       "269   55    1   2      160  292   1       0     143     1      2.0     2  ?   \n",
       "270   55    1   4      145  248   0       0      96     1      2.0     2  ?   \n",
       "271   56    0   2      120  279   0       0     150     0      1.0     2  ?   \n",
       "272   56    1   4      150  230   0       1     124     1      1.5     2  ?   \n",
       "273   56    1   4      170  388   0       1     122     1      2.0     2  ?   \n",
       "274   58    1   2      136  164   0       1      99     1      2.0     2  ?   \n",
       "275   59    1   4      130    ?   0       0     125     0      0.0     ?  ?   \n",
       "276   59    1   4      140  264   1       2     119     1      0.0     ?  ?   \n",
       "277   65    1   4      170  263   1       0     112     1      2.0     2  ?   \n",
       "278   66    1   4      140    ?   0       0      94     1      1.0     2  ?   \n",
       "279   41    1   4      120  336   0       0     118     1      3.0     2  ?   \n",
       "280   43    1   4      140  288   0       0     135     1      2.0     2  ?   \n",
       "281   44    1   4      135  491   0       0     135     0      0.0     ?  ?   \n",
       "282   47    0   4      120  205   0       0      98     1      2.0     2  ?   \n",
       "283   47    1   4      160  291   0       1     158     1      3.0     2  ?   \n",
       "284   49    1   4      128  212   0       0      96     1      0.0     ?  ?   \n",
       "285   49    1   4      150  222   0       0     122     0      2.0     2  ?   \n",
       "286   50    1   4      140  231   0       1     140     1      5.0     2  ?   \n",
       "287   50    1   4      140  341   0       1     125     1      2.5     2  ?   \n",
       "288   52    1   4      140  266   0       0     134     1      2.0     2  ?   \n",
       "289   52    1   4      160  331   0       0      94     1      2.5     ?  ?   \n",
       "290   54    0   3      130  294   0       1     100     1      0.0     2  ?   \n",
       "291   56    1   4      155  342   1       0     150     1      3.0     2  ?   \n",
       "292   58    0   2      180  393   0       0     110     1      1.0     2  ?   \n",
       "293   65    1   4      130  275   0       1     115     1      1.0     2  ?   \n",
       "\n",
       "    thal  num         \n",
       "0      ?           0  \n",
       "1      ?           0  \n",
       "2      ?           0  \n",
       "3      6           0  \n",
       "4      ?           0  \n",
       "5      ?           0  \n",
       "6      ?           0  \n",
       "7      ?           0  \n",
       "8      ?           0  \n",
       "9      ?           0  \n",
       "10     ?           0  \n",
       "11     ?           0  \n",
       "12     ?           0  \n",
       "13     ?           0  \n",
       "14     ?           0  \n",
       "15     ?           0  \n",
       "16     ?           0  \n",
       "17     3           0  \n",
       "18     ?           0  \n",
       "19     ?           0  \n",
       "20     ?           0  \n",
       "21     ?           0  \n",
       "22     ?           0  \n",
       "23     ?           0  \n",
       "24     ?           0  \n",
       "25     3           0  \n",
       "26     ?           0  \n",
       "27     ?           0  \n",
       "28     ?           0  \n",
       "29     ?           0  \n",
       "..   ...         ...  \n",
       "264    ?           1  \n",
       "265    ?           1  \n",
       "266    ?           1  \n",
       "267    ?           1  \n",
       "268    ?           1  \n",
       "269    ?           1  \n",
       "270    ?           1  \n",
       "271    ?           1  \n",
       "272    ?           1  \n",
       "273    ?           1  \n",
       "274    ?           1  \n",
       "275    ?           1  \n",
       "276    ?           1  \n",
       "277    ?           1  \n",
       "278    ?           1  \n",
       "279    ?           1  \n",
       "280    ?           1  \n",
       "281    ?           1  \n",
       "282    6           1  \n",
       "283    ?           1  \n",
       "284    ?           1  \n",
       "285    ?           1  \n",
       "286    ?           1  \n",
       "287    ?           1  \n",
       "288    ?           1  \n",
       "289    ?           1  \n",
       "290    ?           1  \n",
       "291    ?           1  \n",
       "292    7           1  \n",
       "293    ?           1  \n",
       "\n",
       "[294 rows x 14 columns]>"
      ]
     },
     "execution_count": 8,
     "metadata": {},
     "output_type": "execute_result"
    }
   ],
   "source": [
    "df.describe"
   ]
  },
  {
   "cell_type": "code",
   "execution_count": 9,
   "metadata": {},
   "outputs": [
    {
     "data": {
      "text/plain": [
       "(294, 14)"
      ]
     },
     "execution_count": 9,
     "metadata": {},
     "output_type": "execute_result"
    }
   ],
   "source": [
    "df.shape"
   ]
  },
  {
   "cell_type": "code",
   "execution_count": 10,
   "metadata": {},
   "outputs": [
    {
     "data": {
      "text/plain": [
       "Index(['age', 'sex', 'cp', 'trestbps', 'chol', 'fbs', 'restecg', 'thalach',\n",
       "       'exang', 'oldpeak', 'slope', 'ca', 'thal', 'num       '],\n",
       "      dtype='object')"
      ]
     },
     "execution_count": 10,
     "metadata": {},
     "output_type": "execute_result"
    }
   ],
   "source": [
    "df.columns"
   ]
  },
  {
   "cell_type": "markdown",
   "metadata": {},
   "source": [
    "#### 5.1 Replacing the missing data with the mean value, using simple mean imputation methods"
   ]
  },
  {
   "cell_type": "code",
   "execution_count": 11,
   "metadata": {},
   "outputs": [],
   "source": [
    "for c in df.columns[:-1]:\n",
    "    df[c] = df[c].apply(lambda x: df[df[c]!='?'][c].astype(float).mean() if x == \"?\" else x)\n",
    "    df[c] = df[c].astype(float)"
   ]
  },
  {
   "cell_type": "markdown",
   "metadata": {},
   "source": [
    "#### 5.2 Types of Heart Diseases"
   ]
  },
  {
   "cell_type": "code",
   "execution_count": 12,
   "metadata": {},
   "outputs": [
    {
     "data": {
      "text/plain": [
       "{0, 1}"
      ]
     },
     "execution_count": 12,
     "metadata": {},
     "output_type": "execute_result"
    }
   ],
   "source": [
    "set(df.loc[:, \"num       \"].values)"
   ]
  },
  {
   "cell_type": "markdown",
   "metadata": {},
   "source": [
    "##### Value 0: < 50% diameter narrowing -- Value 1: > 50% diameter narrowing (in any major vessel: attributes 59 through 68 are vessels) "
   ]
  },
  {
   "cell_type": "code",
   "execution_count": 13,
   "metadata": {},
   "outputs": [],
   "source": [
    "df.rename(columns = {'num       ':'diagnosis'}, inplace = True) \n",
    "   "
   ]
  },
  {
   "cell_type": "code",
   "execution_count": 14,
   "metadata": {},
   "outputs": [
    {
     "data": {
      "text/html": [
       "<div>\n",
       "<style scoped>\n",
       "    .dataframe tbody tr th:only-of-type {\n",
       "        vertical-align: middle;\n",
       "    }\n",
       "\n",
       "    .dataframe tbody tr th {\n",
       "        vertical-align: top;\n",
       "    }\n",
       "\n",
       "    .dataframe thead th {\n",
       "        text-align: right;\n",
       "    }\n",
       "</style>\n",
       "<table border=\"1\" class=\"dataframe\">\n",
       "  <thead>\n",
       "    <tr style=\"text-align: right;\">\n",
       "      <th></th>\n",
       "      <th>age</th>\n",
       "      <th>sex</th>\n",
       "      <th>cp</th>\n",
       "      <th>trestbps</th>\n",
       "      <th>chol</th>\n",
       "      <th>fbs</th>\n",
       "      <th>restecg</th>\n",
       "      <th>thalach</th>\n",
       "      <th>exang</th>\n",
       "      <th>oldpeak</th>\n",
       "      <th>slope</th>\n",
       "      <th>ca</th>\n",
       "      <th>thal</th>\n",
       "      <th>diagnosis</th>\n",
       "    </tr>\n",
       "  </thead>\n",
       "  <tbody>\n",
       "    <tr>\n",
       "      <th>0</th>\n",
       "      <td>28.0</td>\n",
       "      <td>1.0</td>\n",
       "      <td>2.0</td>\n",
       "      <td>130.0</td>\n",
       "      <td>132.0</td>\n",
       "      <td>0.0</td>\n",
       "      <td>2.0</td>\n",
       "      <td>185.0</td>\n",
       "      <td>0.0</td>\n",
       "      <td>0.0</td>\n",
       "      <td>1.894231</td>\n",
       "      <td>0.0</td>\n",
       "      <td>5.642857</td>\n",
       "      <td>0</td>\n",
       "    </tr>\n",
       "    <tr>\n",
       "      <th>1</th>\n",
       "      <td>29.0</td>\n",
       "      <td>1.0</td>\n",
       "      <td>2.0</td>\n",
       "      <td>120.0</td>\n",
       "      <td>243.0</td>\n",
       "      <td>0.0</td>\n",
       "      <td>0.0</td>\n",
       "      <td>160.0</td>\n",
       "      <td>0.0</td>\n",
       "      <td>0.0</td>\n",
       "      <td>1.894231</td>\n",
       "      <td>0.0</td>\n",
       "      <td>5.642857</td>\n",
       "      <td>0</td>\n",
       "    </tr>\n",
       "  </tbody>\n",
       "</table>\n",
       "</div>"
      ],
      "text/plain": [
       "    age  sex   cp  trestbps   chol  fbs  restecg  thalach  exang  oldpeak  \\\n",
       "0  28.0  1.0  2.0     130.0  132.0  0.0      2.0    185.0    0.0      0.0   \n",
       "1  29.0  1.0  2.0     120.0  243.0  0.0      0.0    160.0    0.0      0.0   \n",
       "\n",
       "      slope   ca      thal  diagnosis  \n",
       "0  1.894231  0.0  5.642857          0  \n",
       "1  1.894231  0.0  5.642857          0  "
      ]
     },
     "execution_count": 14,
     "metadata": {},
     "output_type": "execute_result"
    }
   ],
   "source": [
    "df.head(2)"
   ]
  },
  {
   "cell_type": "markdown",
   "metadata": {},
   "source": [
    "###### let's calculate similarities using median"
   ]
  },
  {
   "cell_type": "code",
   "execution_count": 15,
   "metadata": {},
   "outputs": [],
   "source": [
    "less_50 = df[df[\"diagnosis\"] == 0 ].median().values[:-2]\n",
    "more_50= df[df[\"diagnosis\"] == 1 ].median().values[:-2]"
   ]
  },
  {
   "cell_type": "code",
   "execution_count": 16,
   "metadata": {},
   "outputs": [
    {
     "data": {
      "text/plain": [
       "array([ 48.        ,   1.        ,   2.        , 130.        ,\n",
       "       242.        ,   0.        ,   0.        , 144.        ,\n",
       "         0.        ,   0.        ,   1.89423077,   0.        ])"
      ]
     },
     "execution_count": 16,
     "metadata": {},
     "output_type": "execute_result"
    }
   ],
   "source": [
    "less_50\n"
   ]
  },
  {
   "cell_type": "code",
   "execution_count": 17,
   "metadata": {},
   "outputs": [
    {
     "data": {
      "text/plain": [
       "array([ 50.,   1.,   4., 135., 256.,   0.,   0., 129.,   1.,   1.,   2.,\n",
       "         0.])"
      ]
     },
     "execution_count": 17,
     "metadata": {},
     "output_type": "execute_result"
    }
   ],
   "source": [
    "more_50"
   ]
  },
  {
   "cell_type": "code",
   "execution_count": 18,
   "metadata": {},
   "outputs": [
    {
     "data": {
      "text/plain": [
       "21.354418445140986"
      ]
     },
     "execution_count": 18,
     "metadata": {},
     "output_type": "execute_result"
    }
   ],
   "source": [
    "np.linalg.norm(less_50-more_50)"
   ]
  },
  {
   "cell_type": "markdown",
   "metadata": {},
   "source": [
    "#### Similarity between two types of diagnosis is 21.354418"
   ]
  },
  {
   "cell_type": "code",
   "execution_count": 19,
   "metadata": {},
   "outputs": [],
   "source": [
    "sim = {\"(0,1)\": np.linalg.norm(less_50-more_50)}"
   ]
  },
  {
   "cell_type": "code",
   "execution_count": 20,
   "metadata": {},
   "outputs": [
    {
     "name": "stderr",
     "output_type": "stream",
     "text": [
      "C:\\Users\\nEW u\\Anaconda3\\data sc\\lib\\site-packages\\sklearn\\cross_validation.py:41: DeprecationWarning: This module was deprecated in version 0.18 in favor of the model_selection module into which all the refactored classes and functions are moved. Also note that the interface of the new CV iterators are different from that of this module. This module will be removed in 0.20.\n",
      "  \"This module will be removed in 0.20.\", DeprecationWarning)\n"
     ]
    }
   ],
   "source": [
    "\n",
    "from sklearn import preprocessing\n",
    "from sklearn import neighbors, datasets\n",
    "from sklearn import cross_validation\n",
    "from sklearn.linear_model import SGDClassifier\n",
    "from sklearn import svm\n",
    "import operator\n",
    "\n",
    "from sklearn.cross_validation import KFold\n",
    "\n",
    "import itertools\n",
    "import numpy as np\n",
    "import matplotlib.pyplot as plt\n",
    "\n",
    "from sklearn import metrics\n",
    "from sklearn.metrics import confusion_matrix\n",
    "\n",
    "from sklearn import tree\n",
    "import seaborn as sns\n",
    "\n",
    "from IPython.display import Image\n",
    "\n",
    "%matplotlib inline\n"
   ]
  },
  {
   "cell_type": "code",
   "execution_count": 21,
   "metadata": {},
   "outputs": [
    {
     "data": {
      "text/html": [
       "<div>\n",
       "<style scoped>\n",
       "    .dataframe tbody tr th:only-of-type {\n",
       "        vertical-align: middle;\n",
       "    }\n",
       "\n",
       "    .dataframe tbody tr th {\n",
       "        vertical-align: top;\n",
       "    }\n",
       "\n",
       "    .dataframe thead th {\n",
       "        text-align: right;\n",
       "    }\n",
       "</style>\n",
       "<table border=\"1\" class=\"dataframe\">\n",
       "  <thead>\n",
       "    <tr style=\"text-align: right;\">\n",
       "      <th></th>\n",
       "      <th>age</th>\n",
       "      <th>sex</th>\n",
       "      <th>cp</th>\n",
       "      <th>trestbps</th>\n",
       "      <th>chol</th>\n",
       "      <th>fbs</th>\n",
       "      <th>restecg</th>\n",
       "      <th>thalach</th>\n",
       "      <th>exang</th>\n",
       "      <th>oldpeak</th>\n",
       "      <th>slope</th>\n",
       "      <th>ca</th>\n",
       "      <th>thal</th>\n",
       "      <th>diagnosis</th>\n",
       "    </tr>\n",
       "  </thead>\n",
       "  <tbody>\n",
       "    <tr>\n",
       "      <th>188</th>\n",
       "      <td>31.0</td>\n",
       "      <td>1.0</td>\n",
       "      <td>4.0</td>\n",
       "      <td>120.0</td>\n",
       "      <td>270.0</td>\n",
       "      <td>0.00000</td>\n",
       "      <td>0.0</td>\n",
       "      <td>153.0</td>\n",
       "      <td>1.0</td>\n",
       "      <td>1.5</td>\n",
       "      <td>2.000000</td>\n",
       "      <td>0.0</td>\n",
       "      <td>5.642857</td>\n",
       "      <td>1</td>\n",
       "    </tr>\n",
       "    <tr>\n",
       "      <th>189</th>\n",
       "      <td>33.0</td>\n",
       "      <td>0.0</td>\n",
       "      <td>4.0</td>\n",
       "      <td>100.0</td>\n",
       "      <td>246.0</td>\n",
       "      <td>0.00000</td>\n",
       "      <td>0.0</td>\n",
       "      <td>150.0</td>\n",
       "      <td>1.0</td>\n",
       "      <td>1.0</td>\n",
       "      <td>2.000000</td>\n",
       "      <td>0.0</td>\n",
       "      <td>5.642857</td>\n",
       "      <td>1</td>\n",
       "    </tr>\n",
       "    <tr>\n",
       "      <th>190</th>\n",
       "      <td>34.0</td>\n",
       "      <td>1.0</td>\n",
       "      <td>1.0</td>\n",
       "      <td>140.0</td>\n",
       "      <td>156.0</td>\n",
       "      <td>0.00000</td>\n",
       "      <td>0.0</td>\n",
       "      <td>180.0</td>\n",
       "      <td>0.0</td>\n",
       "      <td>0.0</td>\n",
       "      <td>1.894231</td>\n",
       "      <td>0.0</td>\n",
       "      <td>5.642857</td>\n",
       "      <td>1</td>\n",
       "    </tr>\n",
       "    <tr>\n",
       "      <th>191</th>\n",
       "      <td>35.0</td>\n",
       "      <td>1.0</td>\n",
       "      <td>2.0</td>\n",
       "      <td>110.0</td>\n",
       "      <td>257.0</td>\n",
       "      <td>0.00000</td>\n",
       "      <td>0.0</td>\n",
       "      <td>140.0</td>\n",
       "      <td>0.0</td>\n",
       "      <td>0.0</td>\n",
       "      <td>1.894231</td>\n",
       "      <td>0.0</td>\n",
       "      <td>5.642857</td>\n",
       "      <td>1</td>\n",
       "    </tr>\n",
       "    <tr>\n",
       "      <th>192</th>\n",
       "      <td>36.0</td>\n",
       "      <td>1.0</td>\n",
       "      <td>2.0</td>\n",
       "      <td>120.0</td>\n",
       "      <td>267.0</td>\n",
       "      <td>0.00000</td>\n",
       "      <td>0.0</td>\n",
       "      <td>160.0</td>\n",
       "      <td>0.0</td>\n",
       "      <td>3.0</td>\n",
       "      <td>2.000000</td>\n",
       "      <td>0.0</td>\n",
       "      <td>5.642857</td>\n",
       "      <td>1</td>\n",
       "    </tr>\n",
       "    <tr>\n",
       "      <th>193</th>\n",
       "      <td>37.0</td>\n",
       "      <td>1.0</td>\n",
       "      <td>4.0</td>\n",
       "      <td>140.0</td>\n",
       "      <td>207.0</td>\n",
       "      <td>0.00000</td>\n",
       "      <td>0.0</td>\n",
       "      <td>130.0</td>\n",
       "      <td>1.0</td>\n",
       "      <td>1.5</td>\n",
       "      <td>2.000000</td>\n",
       "      <td>0.0</td>\n",
       "      <td>5.642857</td>\n",
       "      <td>1</td>\n",
       "    </tr>\n",
       "    <tr>\n",
       "      <th>194</th>\n",
       "      <td>38.0</td>\n",
       "      <td>1.0</td>\n",
       "      <td>4.0</td>\n",
       "      <td>110.0</td>\n",
       "      <td>196.0</td>\n",
       "      <td>0.00000</td>\n",
       "      <td>0.0</td>\n",
       "      <td>166.0</td>\n",
       "      <td>0.0</td>\n",
       "      <td>0.0</td>\n",
       "      <td>1.894231</td>\n",
       "      <td>0.0</td>\n",
       "      <td>5.642857</td>\n",
       "      <td>1</td>\n",
       "    </tr>\n",
       "    <tr>\n",
       "      <th>195</th>\n",
       "      <td>38.0</td>\n",
       "      <td>1.0</td>\n",
       "      <td>4.0</td>\n",
       "      <td>120.0</td>\n",
       "      <td>282.0</td>\n",
       "      <td>0.00000</td>\n",
       "      <td>0.0</td>\n",
       "      <td>170.0</td>\n",
       "      <td>0.0</td>\n",
       "      <td>0.0</td>\n",
       "      <td>1.894231</td>\n",
       "      <td>0.0</td>\n",
       "      <td>5.642857</td>\n",
       "      <td>1</td>\n",
       "    </tr>\n",
       "    <tr>\n",
       "      <th>196</th>\n",
       "      <td>38.0</td>\n",
       "      <td>1.0</td>\n",
       "      <td>4.0</td>\n",
       "      <td>92.0</td>\n",
       "      <td>117.0</td>\n",
       "      <td>0.00000</td>\n",
       "      <td>0.0</td>\n",
       "      <td>134.0</td>\n",
       "      <td>1.0</td>\n",
       "      <td>2.5</td>\n",
       "      <td>2.000000</td>\n",
       "      <td>0.0</td>\n",
       "      <td>5.642857</td>\n",
       "      <td>1</td>\n",
       "    </tr>\n",
       "    <tr>\n",
       "      <th>197</th>\n",
       "      <td>40.0</td>\n",
       "      <td>1.0</td>\n",
       "      <td>4.0</td>\n",
       "      <td>120.0</td>\n",
       "      <td>466.0</td>\n",
       "      <td>0.06993</td>\n",
       "      <td>0.0</td>\n",
       "      <td>152.0</td>\n",
       "      <td>1.0</td>\n",
       "      <td>1.0</td>\n",
       "      <td>2.000000</td>\n",
       "      <td>0.0</td>\n",
       "      <td>6.000000</td>\n",
       "      <td>1</td>\n",
       "    </tr>\n",
       "  </tbody>\n",
       "</table>\n",
       "</div>"
      ],
      "text/plain": [
       "      age  sex   cp  trestbps   chol      fbs  restecg  thalach  exang  \\\n",
       "188  31.0  1.0  4.0     120.0  270.0  0.00000      0.0    153.0    1.0   \n",
       "189  33.0  0.0  4.0     100.0  246.0  0.00000      0.0    150.0    1.0   \n",
       "190  34.0  1.0  1.0     140.0  156.0  0.00000      0.0    180.0    0.0   \n",
       "191  35.0  1.0  2.0     110.0  257.0  0.00000      0.0    140.0    0.0   \n",
       "192  36.0  1.0  2.0     120.0  267.0  0.00000      0.0    160.0    0.0   \n",
       "193  37.0  1.0  4.0     140.0  207.0  0.00000      0.0    130.0    1.0   \n",
       "194  38.0  1.0  4.0     110.0  196.0  0.00000      0.0    166.0    0.0   \n",
       "195  38.0  1.0  4.0     120.0  282.0  0.00000      0.0    170.0    0.0   \n",
       "196  38.0  1.0  4.0      92.0  117.0  0.00000      0.0    134.0    1.0   \n",
       "197  40.0  1.0  4.0     120.0  466.0  0.06993      0.0    152.0    1.0   \n",
       "\n",
       "     oldpeak     slope   ca      thal  diagnosis  \n",
       "188      1.5  2.000000  0.0  5.642857          1  \n",
       "189      1.0  2.000000  0.0  5.642857          1  \n",
       "190      0.0  1.894231  0.0  5.642857          1  \n",
       "191      0.0  1.894231  0.0  5.642857          1  \n",
       "192      3.0  2.000000  0.0  5.642857          1  \n",
       "193      1.5  2.000000  0.0  5.642857          1  \n",
       "194      0.0  1.894231  0.0  5.642857          1  \n",
       "195      0.0  1.894231  0.0  5.642857          1  \n",
       "196      2.5  2.000000  0.0  5.642857          1  \n",
       "197      1.0  2.000000  0.0  6.000000          1  "
      ]
     },
     "execution_count": 21,
     "metadata": {},
     "output_type": "execute_result"
    }
   ],
   "source": [
    "# we can compare the types of heart disease by using values of each feature separately \n",
    "df_1 = df[df[\"diagnosis\"] == 1 ]\n",
    "df_1[:10]"
   ]
  },
  {
   "cell_type": "markdown",
   "metadata": {},
   "source": [
    "### 5.3 Finding the range of each feature by disease type"
   ]
  },
  {
   "cell_type": "markdown",
   "metadata": {},
   "source": [
    "### Age"
   ]
  },
  {
   "cell_type": "code",
   "execution_count": 22,
   "metadata": {},
   "outputs": [
    {
     "data": {
      "text/plain": [
       "diagnosis\n",
       "1    31.0, 66.0\n",
       "Name: age, dtype: object"
      ]
     },
     "execution_count": 22,
     "metadata": {},
     "output_type": "execute_result"
    }
   ],
   "source": [
    "df_1.groupby([\"diagnosis\", ])[\"age\"].min().astype(str) + ', ' +  df_1.groupby([\"diagnosis\", ])[\"age\"].max().astype(str)"
   ]
  },
  {
   "cell_type": "markdown",
   "metadata": {},
   "source": [
    "#### Thus,The minimum age is 31 and maximum age is 66"
   ]
  },
  {
   "cell_type": "code",
   "execution_count": 23,
   "metadata": {},
   "outputs": [
    {
     "data": {
      "text/plain": [
       "diagnosis\n",
       "1    49.481132\n",
       "Name: age, dtype: float64"
      ]
     },
     "execution_count": 23,
     "metadata": {},
     "output_type": "execute_result"
    }
   ],
   "source": [
    "df_1.groupby([\"diagnosis\", ])[\"age\"].mean()"
   ]
  },
  {
   "cell_type": "markdown",
   "metadata": {},
   "source": [
    "#### Thus, Mean of age is 49.48"
   ]
  },
  {
   "cell_type": "markdown",
   "metadata": {},
   "source": [
    "### SEX"
   ]
  },
  {
   "cell_type": "code",
   "execution_count": 24,
   "metadata": {},
   "outputs": [
    {
     "data": {
      "text/plain": [
       "diagnosis  sex\n",
       "1          0.0    12\n",
       "           1.0    94\n",
       "Name: age, dtype: int64"
      ]
     },
     "execution_count": 24,
     "metadata": {},
     "output_type": "execute_result"
    }
   ],
   "source": [
    "df_1.groupby([\"diagnosis\", \"sex\"])[\"age\"].count()"
   ]
  },
  {
   "cell_type": "markdown",
   "metadata": {},
   "source": [
    "#### Thus,Diagnosis Count In female:12 and In Male:94 [sex (1 = male; 0 = female)]"
   ]
  },
  {
   "cell_type": "markdown",
   "metadata": {},
   "source": [
    "#### We can see that heart disease all types can be present in men with higher probability than in women"
   ]
  },
  {
   "cell_type": "markdown",
   "metadata": {},
   "source": [
    "### CHEST PAIN"
   ]
  },
  {
   "cell_type": "code",
   "execution_count": 25,
   "metadata": {},
   "outputs": [
    {
     "data": {
      "text/plain": [
       "diagnosis  cp \n",
       "1          1.0     4\n",
       "           2.0     8\n",
       "           3.0    11\n",
       "           4.0    83\n",
       "Name: age, dtype: int64"
      ]
     },
     "execution_count": 25,
     "metadata": {},
     "output_type": "execute_result"
    }
   ],
   "source": [
    "#### Count each chest pain value per heart disease type\n",
    "df_1.groupby([\"diagnosis\", \"cp\"])[\"age\"].count()"
   ]
  },
  {
   "cell_type": "markdown",
   "metadata": {},
   "source": [
    "#### cp: chest pain type -- Value 1: typical angina -- Value 2: atypical angina -- Value 3: non-anginal pain -- Value 4: asymptomatic"
   ]
  },
  {
   "cell_type": "markdown",
   "metadata": {},
   "source": [
    "#### Thus,The people with chest pain = 4 often have heart disease."
   ]
  },
  {
   "cell_type": "markdown",
   "metadata": {},
   "source": [
    "### BLOOD PRESSURE"
   ]
  },
  {
   "cell_type": "code",
   "execution_count": 26,
   "metadata": {},
   "outputs": [
    {
     "data": {
      "text/plain": [
       "diagnosis\n",
       "1    92.0, 200.0\n",
       "Name: trestbps, dtype: object"
      ]
     },
     "execution_count": 26,
     "metadata": {},
     "output_type": "execute_result"
    }
   ],
   "source": [
    "#### \"Minimum blood pressure to Maximum  blood pressure per disease type\"\n",
    "\n",
    "df_1.groupby([\"diagnosis\"])[\"trestbps\"].min().astype(str) + ', ' +  df_1.groupby([\"diagnosis\"])[\"trestbps\"].max().astype(str)"
   ]
  },
  {
   "cell_type": "markdown",
   "metadata": {},
   "source": [
    "#### Thus,Minimus bp value is 92 and maximum value is 200.\n",
    "[trestbps: resting blood pressure (in mm Hg on admission to the hospital) 11 htn ]"
   ]
  },
  {
   "cell_type": "code",
   "execution_count": 27,
   "metadata": {},
   "outputs": [
    {
     "data": {
      "text/plain": [
       "diagnosis\n",
       "1    135.849057\n",
       "Name: trestbps, dtype: float64"
      ]
     },
     "execution_count": 27,
     "metadata": {},
     "output_type": "execute_result"
    }
   ],
   "source": [
    "### Calculating Mean\n",
    "df_1.groupby([\"diagnosis\", ])[\"trestbps\"].mean()"
   ]
  },
  {
   "cell_type": "markdown",
   "metadata": {},
   "source": [
    "#### As bigger is mean blood pressure as higher is type of heart diseas"
   ]
  },
  {
   "cell_type": "markdown",
   "metadata": {},
   "source": [
    "### CHOLESTROL"
   ]
  },
  {
   "cell_type": "markdown",
   "metadata": {},
   "source": [
    "chol: serum cholestoral in mg/dl"
   ]
  },
  {
   "cell_type": "code",
   "execution_count": 28,
   "metadata": {},
   "outputs": [
    {
     "data": {
      "text/plain": [
       "diagnosis\n",
       "1    117.0, 603.0\n",
       "Name: chol, dtype: object"
      ]
     },
     "execution_count": 28,
     "metadata": {},
     "output_type": "execute_result"
    }
   ],
   "source": [
    "df_1.groupby([\"diagnosis\"])[\"chol\"].min().astype(str) + ', ' +  df_1.groupby([\"diagnosis\"])[\"chol\"].max().astype(str)"
   ]
  },
  {
   "cell_type": "markdown",
   "metadata": {},
   "source": [
    "#### Thus,Minimum cholestrol value is 92 and maximum value of cholestrol is 200."
   ]
  },
  {
   "cell_type": "code",
   "execution_count": 29,
   "metadata": {},
   "outputs": [
    {
     "data": {
      "text/plain": [
       "diagnosis\n",
       "1    268.323052\n",
       "Name: chol, dtype: float64"
      ]
     },
     "execution_count": 29,
     "metadata": {},
     "output_type": "execute_result"
    }
   ],
   "source": [
    "### \"Mean serum_cholestoral per disease type\"\n",
    "df_1.groupby([\"diagnosis\", ])[\"chol\"].mean()"
   ]
  },
  {
   "cell_type": "markdown",
   "metadata": {},
   "source": [
    "### FASTING BLOOD SUGAR"
   ]
  },
  {
   "cell_type": "markdown",
   "metadata": {},
   "source": [
    " fbs: (fasting blood sugar > 120 mg/dl) (1 = true; 0 = false) 17 dm (1 = history of diabetes; 0 = no such history) "
   ]
  },
  {
   "cell_type": "code",
   "execution_count": 30,
   "metadata": {},
   "outputs": [
    {
     "data": {
      "text/plain": [
       "diagnosis  fbs    \n",
       "1          0.00000    91\n",
       "           0.06993     2\n",
       "           1.00000    13\n",
       "Name: age, dtype: int64"
      ]
     },
     "execution_count": 30,
     "metadata": {},
     "output_type": "execute_result"
    }
   ],
   "source": [
    "### \"Count each fasting_blood_sugar per heart disease type\"\n",
    "df_1.groupby([\"diagnosis\", \"fbs\"])[\"age\"].count()"
   ]
  },
  {
   "cell_type": "markdown",
   "metadata": {},
   "source": [
    "### ELECTROCARDIOGRAPHIC RESULTS"
   ]
  },
  {
   "cell_type": "markdown",
   "metadata": {},
   "source": [
    "restecg: resting electrocardiographic results -- Value 0: normal -- Value 1: having ST-T wave abnormality (T wave inversions and/or ST elevation or depression of > 0.05 mV) -- Value 2: showing probable or definite left ventricular hypertrophy by Estes' criteria "
   ]
  },
  {
   "cell_type": "code",
   "execution_count": 31,
   "metadata": {},
   "outputs": [
    {
     "data": {
      "text/plain": [
       "diagnosis  restecg\n",
       "1          0.00000    85\n",
       "           0.21843     1\n",
       "           1.00000    19\n",
       "           2.00000     1\n",
       "Name: age, dtype: int64"
      ]
     },
     "execution_count": 31,
     "metadata": {},
     "output_type": "execute_result"
    }
   ],
   "source": [
    "df_1.groupby([\"diagnosis\", \"restecg\"])[\"age\"].count()"
   ]
  },
  {
   "cell_type": "markdown",
   "metadata": {},
   "source": [
    "### HEART_RATE"
   ]
  },
  {
   "cell_type": "markdown",
   "metadata": {},
   "source": [
    "thalach: maximum heart rate achieved "
   ]
  },
  {
   "cell_type": "code",
   "execution_count": 32,
   "metadata": {},
   "outputs": [
    {
     "data": {
      "text/plain": [
       "diagnosis\n",
       "1    82.0, 180.0\n",
       "Name: thalach, dtype: object"
      ]
     },
     "execution_count": 32,
     "metadata": {},
     "output_type": "execute_result"
    }
   ],
   "source": [
    "### print \"Minimum max_heart_rate to Maximum max_heart_rate per disease type\"\n",
    "\n",
    "df_1.groupby([\"diagnosis\"])[\"thalach\"].min().astype(str) + ', ' +  df_1.groupby([\"diagnosis\"])[\"thalach\"].max().astype(str)"
   ]
  },
  {
   "cell_type": "code",
   "execution_count": 33,
   "metadata": {},
   "outputs": [
    {
     "data": {
      "text/plain": [
       "diagnosis\n",
       "1    128.764151\n",
       "Name: thalach, dtype: float64"
      ]
     },
     "execution_count": 33,
     "metadata": {},
     "output_type": "execute_result"
    }
   ],
   "source": [
    "df_1.groupby([\"diagnosis\", ])[\"thalach\"].mean()"
   ]
  },
  {
   "cell_type": "markdown",
   "metadata": {},
   "source": [
    "### SLOPE"
   ]
  },
  {
   "cell_type": "markdown",
   "metadata": {},
   "source": [
    " the slope of the peak exercise"
   ]
  },
  {
   "cell_type": "code",
   "execution_count": 34,
   "metadata": {},
   "outputs": [
    {
     "data": {
      "text/plain": [
       "diagnosis  slope   \n",
       "1          1.894231    33\n",
       "           2.000000    72\n",
       "           3.000000     1\n",
       "Name: age, dtype: int64"
      ]
     },
     "execution_count": 34,
     "metadata": {},
     "output_type": "execute_result"
    }
   ],
   "source": [
    "### \"Count slope per heart disease type\"\n",
    "df_1.groupby([\"diagnosis\", \"slope\"])[\"age\"].count()"
   ]
  },
  {
   "cell_type": "code",
   "execution_count": 35,
   "metadata": {},
   "outputs": [
    {
     "data": {
      "text/html": [
       "<div>\n",
       "<style scoped>\n",
       "    .dataframe tbody tr th:only-of-type {\n",
       "        vertical-align: middle;\n",
       "    }\n",
       "\n",
       "    .dataframe tbody tr th {\n",
       "        vertical-align: top;\n",
       "    }\n",
       "\n",
       "    .dataframe thead th {\n",
       "        text-align: right;\n",
       "    }\n",
       "</style>\n",
       "<table border=\"1\" class=\"dataframe\">\n",
       "  <thead>\n",
       "    <tr style=\"text-align: right;\">\n",
       "      <th></th>\n",
       "      <th>age</th>\n",
       "      <th>sex</th>\n",
       "      <th>cp</th>\n",
       "      <th>trestbps</th>\n",
       "      <th>chol</th>\n",
       "      <th>fbs</th>\n",
       "      <th>restecg</th>\n",
       "      <th>thalach</th>\n",
       "      <th>exang</th>\n",
       "      <th>oldpeak</th>\n",
       "      <th>slope</th>\n",
       "      <th>ca</th>\n",
       "      <th>thal</th>\n",
       "      <th>diagnosis</th>\n",
       "    </tr>\n",
       "  </thead>\n",
       "  <tbody>\n",
       "    <tr>\n",
       "      <th>188</th>\n",
       "      <td>31.0</td>\n",
       "      <td>1.0</td>\n",
       "      <td>4.0</td>\n",
       "      <td>120.0</td>\n",
       "      <td>270.0</td>\n",
       "      <td>0.0</td>\n",
       "      <td>0.0</td>\n",
       "      <td>153.0</td>\n",
       "      <td>1.0</td>\n",
       "      <td>1.5</td>\n",
       "      <td>2.0</td>\n",
       "      <td>0.0</td>\n",
       "      <td>5.642857</td>\n",
       "      <td>1</td>\n",
       "    </tr>\n",
       "    <tr>\n",
       "      <th>189</th>\n",
       "      <td>33.0</td>\n",
       "      <td>0.0</td>\n",
       "      <td>4.0</td>\n",
       "      <td>100.0</td>\n",
       "      <td>246.0</td>\n",
       "      <td>0.0</td>\n",
       "      <td>0.0</td>\n",
       "      <td>150.0</td>\n",
       "      <td>1.0</td>\n",
       "      <td>1.0</td>\n",
       "      <td>2.0</td>\n",
       "      <td>0.0</td>\n",
       "      <td>5.642857</td>\n",
       "      <td>1</td>\n",
       "    </tr>\n",
       "  </tbody>\n",
       "</table>\n",
       "</div>"
      ],
      "text/plain": [
       "      age  sex   cp  trestbps   chol  fbs  restecg  thalach  exang  oldpeak  \\\n",
       "188  31.0  1.0  4.0     120.0  270.0  0.0      0.0    153.0    1.0      1.5   \n",
       "189  33.0  0.0  4.0     100.0  246.0  0.0      0.0    150.0    1.0      1.0   \n",
       "\n",
       "     slope   ca      thal  diagnosis  \n",
       "188    2.0  0.0  5.642857          1  \n",
       "189    2.0  0.0  5.642857          1  "
      ]
     },
     "execution_count": 35,
     "metadata": {},
     "output_type": "execute_result"
    }
   ],
   "source": [
    "df_1.head(2)"
   ]
  },
  {
   "cell_type": "markdown",
   "metadata": {},
   "source": [
    "###  THAL"
   ]
  },
  {
   "cell_type": "code",
   "execution_count": 36,
   "metadata": {},
   "outputs": [
    {
     "data": {
      "text/plain": [
       "diagnosis\n",
       "1    5.752695\n",
       "Name: thal, dtype: float64"
      ]
     },
     "execution_count": 36,
     "metadata": {},
     "output_type": "execute_result"
    }
   ],
   "source": [
    "### \"Count  mean thal per heart disease type\"\n",
    "df_1.groupby([\"diagnosis\"])[\"thal\"].mean()\n"
   ]
  },
  {
   "cell_type": "markdown",
   "metadata": {},
   "source": [
    "### We can consider that the person with\n",
    "#### age > 31\n",
    "#### man (sex-1)\n",
    "#### with chest pain = 4\n",
    "#### blood pressure > 135\n",
    "#### serum_cholestoral > 200\n",
    "#### fasting_blood_sugar = 0\n",
    "#### electrocardiographic = 0\n",
    "#### max_heart_rate > 128\n",
    "#### slope >=2\n",
    "#### thal >=5"
   ]
  },
  {
   "cell_type": "markdown",
   "metadata": {},
   "source": [
    "## Data preprocessing"
   ]
  },
  {
   "cell_type": "markdown",
   "metadata": {},
   "source": [
    "### Converting output to binary datatypes"
   ]
  },
  {
   "cell_type": "code",
   "execution_count": 37,
   "metadata": {},
   "outputs": [],
   "source": [
    "df.loc[:, \"Diagnosis\"] = df.loc[:, \"diagnosis\"].apply(lambda x: 1 if x >= 1 else 0)\n"
   ]
  },
  {
   "cell_type": "markdown",
   "metadata": {},
   "source": [
    "### Normalizing the data"
   ]
  },
  {
   "cell_type": "code",
   "execution_count": 38,
   "metadata": {},
   "outputs": [
    {
     "data": {
      "text/plain": [
       "array([[0.10630383, 0.00379657, 0.00759313, ..., 0.02142348, 0.        ,\n",
       "        0.        ],\n",
       "       [0.09173797, 0.00316338, 0.00632676, ..., 0.01785049, 0.        ,\n",
       "        0.        ],\n",
       "       [0.08653575, 0.00298399, 0.00596798, ..., 0.01683824, 0.        ,\n",
       "        0.        ],\n",
       "       ...,\n",
       "       [0.13716148, 0.00244931, 0.00979725, ..., 0.01382112, 0.00244931,\n",
       "        0.00244931],\n",
       "       [0.12892901, 0.        , 0.00444583, ..., 0.0155604 , 0.00222291,\n",
       "        0.00222291],\n",
       "       [0.19595312, 0.00301466, 0.01205865, ..., 0.01701132, 0.00301466,\n",
       "        0.00301466]])"
      ]
     },
     "execution_count": 38,
     "metadata": {},
     "output_type": "execute_result"
    }
   ],
   "source": [
    "# create the normalizer and fit it \n",
    "preprocessing.Normalizer().fit_transform(df)"
   ]
  },
  {
   "cell_type": "markdown",
   "metadata": {},
   "source": [
    "### 7 Constructing the sample set"
   ]
  },
  {
   "cell_type": "code",
   "execution_count": 39,
   "metadata": {},
   "outputs": [
    {
     "data": {
      "text/plain": [
       "Index(['age', 'sex', 'cp', 'trestbps', 'chol', 'fbs', 'restecg', 'thalach',\n",
       "       'exang', 'oldpeak', 'slope', 'ca', 'thal', 'diagnosis', 'Diagnosis'],\n",
       "      dtype='object')"
      ]
     },
     "execution_count": 39,
     "metadata": {},
     "output_type": "execute_result"
    }
   ],
   "source": [
    "df.columns"
   ]
  },
  {
   "cell_type": "code",
   "execution_count": 40,
   "metadata": {},
   "outputs": [
    {
     "data": {
      "text/html": [
       "<div>\n",
       "<style scoped>\n",
       "    .dataframe tbody tr th:only-of-type {\n",
       "        vertical-align: middle;\n",
       "    }\n",
       "\n",
       "    .dataframe tbody tr th {\n",
       "        vertical-align: top;\n",
       "    }\n",
       "\n",
       "    .dataframe thead th {\n",
       "        text-align: right;\n",
       "    }\n",
       "</style>\n",
       "<table border=\"1\" class=\"dataframe\">\n",
       "  <thead>\n",
       "    <tr style=\"text-align: right;\">\n",
       "      <th></th>\n",
       "      <th>index</th>\n",
       "      <th>age</th>\n",
       "      <th>sex</th>\n",
       "      <th>cp</th>\n",
       "      <th>trestbps</th>\n",
       "      <th>chol</th>\n",
       "      <th>fbs</th>\n",
       "      <th>restecg</th>\n",
       "      <th>thalach</th>\n",
       "      <th>exang</th>\n",
       "      <th>oldpeak</th>\n",
       "      <th>slope</th>\n",
       "      <th>ca</th>\n",
       "      <th>thal</th>\n",
       "      <th>diagnosis</th>\n",
       "      <th>Diagnosis</th>\n",
       "    </tr>\n",
       "  </thead>\n",
       "  <tbody>\n",
       "    <tr>\n",
       "      <th>0</th>\n",
       "      <td>0</td>\n",
       "      <td>28.0</td>\n",
       "      <td>1.0</td>\n",
       "      <td>2.0</td>\n",
       "      <td>130.0</td>\n",
       "      <td>132.0</td>\n",
       "      <td>0.0</td>\n",
       "      <td>2.0</td>\n",
       "      <td>185.0</td>\n",
       "      <td>0.0</td>\n",
       "      <td>0.0</td>\n",
       "      <td>1.894231</td>\n",
       "      <td>0.0</td>\n",
       "      <td>5.642857</td>\n",
       "      <td>0</td>\n",
       "      <td>0</td>\n",
       "    </tr>\n",
       "    <tr>\n",
       "      <th>1</th>\n",
       "      <td>1</td>\n",
       "      <td>29.0</td>\n",
       "      <td>1.0</td>\n",
       "      <td>2.0</td>\n",
       "      <td>120.0</td>\n",
       "      <td>243.0</td>\n",
       "      <td>0.0</td>\n",
       "      <td>0.0</td>\n",
       "      <td>160.0</td>\n",
       "      <td>0.0</td>\n",
       "      <td>0.0</td>\n",
       "      <td>1.894231</td>\n",
       "      <td>0.0</td>\n",
       "      <td>5.642857</td>\n",
       "      <td>0</td>\n",
       "      <td>0</td>\n",
       "    </tr>\n",
       "  </tbody>\n",
       "</table>\n",
       "</div>"
      ],
      "text/plain": [
       "   index   age  sex   cp  trestbps   chol  fbs  restecg  thalach  exang  \\\n",
       "0      0  28.0  1.0  2.0     130.0  132.0  0.0      2.0    185.0    0.0   \n",
       "1      1  29.0  1.0  2.0     120.0  243.0  0.0      0.0    160.0    0.0   \n",
       "\n",
       "   oldpeak     slope   ca      thal  diagnosis  Diagnosis  \n",
       "0      0.0  1.894231  0.0  5.642857          0          0  \n",
       "1      0.0  1.894231  0.0  5.642857          0          0  "
      ]
     },
     "execution_count": 40,
     "metadata": {},
     "output_type": "execute_result"
    }
   ],
   "source": [
    "df.reset_index().head(2)"
   ]
  },
  {
   "cell_type": "code",
   "execution_count": 41,
   "metadata": {},
   "outputs": [
    {
     "data": {
      "text/plain": [
       "((205, 13), (89, 13))"
      ]
     },
     "execution_count": 41,
     "metadata": {},
     "output_type": "execute_result"
    }
   ],
   "source": [
    "# split dataset into train and test\n",
    "df = df[['age', 'sex', 'cp', 'trestbps', 'chol', 'fbs', 'restecg', 'thalach',\n",
    "       'exang', 'oldpeak', 'slope', 'ca', 'thal','diagnosis','Diagnosis']]\n",
    "X_train, X_test, y_train, y_test = train_test_split(\n",
    "    df.drop(labels=['Diagnosis','diagnosis'], axis=1),\n",
    "    df['Diagnosis'],\n",
    "    test_size=0.3,\n",
    "    random_state=0)\n",
    "\n",
    "X_train.shape, X_test.shape"
   ]
  },
  {
   "cell_type": "markdown",
   "metadata": {},
   "source": [
    "### Calculating Correlation"
   ]
  },
  {
   "cell_type": "code",
   "execution_count": 42,
   "metadata": {},
   "outputs": [
    {
     "data": {
      "text/html": [
       "<div>\n",
       "<style scoped>\n",
       "    .dataframe tbody tr th:only-of-type {\n",
       "        vertical-align: middle;\n",
       "    }\n",
       "\n",
       "    .dataframe tbody tr th {\n",
       "        vertical-align: top;\n",
       "    }\n",
       "\n",
       "    .dataframe thead th {\n",
       "        text-align: right;\n",
       "    }\n",
       "</style>\n",
       "<table border=\"1\" class=\"dataframe\">\n",
       "  <thead>\n",
       "    <tr style=\"text-align: right;\">\n",
       "      <th></th>\n",
       "      <th>age</th>\n",
       "      <th>sex</th>\n",
       "      <th>cp</th>\n",
       "      <th>trestbps</th>\n",
       "      <th>chol</th>\n",
       "      <th>fbs</th>\n",
       "      <th>restecg</th>\n",
       "      <th>thalach</th>\n",
       "      <th>exang</th>\n",
       "      <th>oldpeak</th>\n",
       "      <th>slope</th>\n",
       "      <th>ca</th>\n",
       "      <th>thal</th>\n",
       "      <th>diagnosis</th>\n",
       "      <th>Diagnosis</th>\n",
       "    </tr>\n",
       "  </thead>\n",
       "  <tbody>\n",
       "    <tr>\n",
       "      <th>age</th>\n",
       "      <td>1.000000</td>\n",
       "      <td>0.013618</td>\n",
       "      <td>0.145826</td>\n",
       "      <td>0.245203</td>\n",
       "      <td>0.087086</td>\n",
       "      <td>0.180466</td>\n",
       "      <td>0.051914</td>\n",
       "      <td>-0.459420</td>\n",
       "      <td>0.238925</td>\n",
       "      <td>0.177707</td>\n",
       "      <td>-0.036577</td>\n",
       "      <td>NaN</td>\n",
       "      <td>0.081856</td>\n",
       "      <td>0.159315</td>\n",
       "      <td>0.159315</td>\n",
       "    </tr>\n",
       "    <tr>\n",
       "      <th>sex</th>\n",
       "      <td>0.013618</td>\n",
       "      <td>1.000000</td>\n",
       "      <td>0.249875</td>\n",
       "      <td>0.088711</td>\n",
       "      <td>0.027571</td>\n",
       "      <td>0.041908</td>\n",
       "      <td>-0.104546</td>\n",
       "      <td>-0.111278</td>\n",
       "      <td>0.154228</td>\n",
       "      <td>0.118931</td>\n",
       "      <td>0.123314</td>\n",
       "      <td>NaN</td>\n",
       "      <td>-0.038887</td>\n",
       "      <td>0.272781</td>\n",
       "      <td>0.272781</td>\n",
       "    </tr>\n",
       "  </tbody>\n",
       "</table>\n",
       "</div>"
      ],
      "text/plain": [
       "          age       sex        cp  trestbps      chol       fbs   restecg  \\\n",
       "age  1.000000  0.013618  0.145826  0.245203  0.087086  0.180466  0.051914   \n",
       "sex  0.013618  1.000000  0.249875  0.088711  0.027571  0.041908 -0.104546   \n",
       "\n",
       "      thalach     exang   oldpeak     slope  ca      thal  diagnosis  \\\n",
       "age -0.459420  0.238925  0.177707 -0.036577 NaN  0.081856   0.159315   \n",
       "sex -0.111278  0.154228  0.118931  0.123314 NaN -0.038887   0.272781   \n",
       "\n",
       "     Diagnosis  \n",
       "age   0.159315  \n",
       "sex   0.272781  "
      ]
     },
     "execution_count": 42,
     "metadata": {},
     "output_type": "execute_result"
    }
   ],
   "source": [
    "corr = df.corr()\n",
    "df.corr().head(2)"
   ]
  },
  {
   "cell_type": "code",
   "execution_count": 43,
   "metadata": {},
   "outputs": [
    {
     "data": {
      "text/plain": [
       "<matplotlib.axes._subplots.AxesSubplot at 0x258553c8ac8>"
      ]
     },
     "execution_count": 43,
     "metadata": {},
     "output_type": "execute_result"
    },
    {
     "data": {
      "image/png": "[encoded data removed]",
      "text/plain": [
       "<Figure size 792x792 with 2 Axes>"
      ]
     },
     "metadata": {},
     "output_type": "display_data"
    }
   ],
   "source": [
    "corrmat = X_train.corr()\n",
    "fig, ax = plt.subplots()\n",
    "fig.set_size_inches(11,11)\n",
    "sns.heatmap(corrmat)"
   ]
  },
  {
   "cell_type": "code",
   "execution_count": 44,
   "metadata": {},
   "outputs": [
    {
     "name": "stderr",
     "output_type": "stream",
     "text": [
      "C:\\Users\\nEW u\\Anaconda3\\data sc\\lib\\site-packages\\matplotlib\\colors.py:504: RuntimeWarning: invalid value encountered in less\n",
      "  xa[xa < 0] = -1\n"
     ]
    },
    {
     "data": {
      "text/html": [
       "<style  type=\"text/css\" >\n",
       "    #T_ad0a7d78_9e93_11e9_9517_e4b318d9a093 th {\n",
       "          font-size: 7pt;\n",
       "    }    #T_ad0a7d78_9e93_11e9_9517_e4b318d9a093 td {\n",
       "          padding: 0em 0em;\n",
       "    }    #T_ad0a7d78_9e93_11e9_9517_e4b318d9a093 th:hover {\n",
       "          font-size: 12pt;\n",
       "    }    #T_ad0a7d78_9e93_11e9_9517_e4b318d9a093 tr:hover td:hover {\n",
       "          max-width: 200px;\n",
       "          font-size: 12pt;\n",
       "    }    #T_ad0a7d78_9e93_11e9_9517_e4b318d9a093row0_col0 {\n",
       "            background-color:  #da3b46;\n",
       "            max-width:  80px;\n",
       "            font-size:  10pt;\n",
       "        }    #T_ad0a7d78_9e93_11e9_9517_e4b318d9a093row0_col1 {\n",
       "            background-color:  #b5cae4;\n",
       "            max-width:  80px;\n",
       "            font-size:  10pt;\n",
       "        }    #T_ad0a7d78_9e93_11e9_9517_e4b318d9a093row0_col2 {\n",
       "            background-color:  #d7e2f0;\n",
       "            max-width:  80px;\n",
       "            font-size:  10pt;\n",
       "        }    #T_ad0a7d78_9e93_11e9_9517_e4b318d9a093row0_col3 {\n",
       "            background-color:  #f2f2f2;\n",
       "            max-width:  80px;\n",
       "            font-size:  10pt;\n",
       "        }    #T_ad0a7d78_9e93_11e9_9517_e4b318d9a093row0_col4 {\n",
       "            background-color:  #c7d7eb;\n",
       "            max-width:  80px;\n",
       "            font-size:  10pt;\n",
       "        }    #T_ad0a7d78_9e93_11e9_9517_e4b318d9a093row0_col5 {\n",
       "            background-color:  #dfe8f3;\n",
       "            max-width:  80px;\n",
       "            font-size:  10pt;\n",
       "        }    #T_ad0a7d78_9e93_11e9_9517_e4b318d9a093row0_col6 {\n",
       "            background-color:  #bfd1e8;\n",
       "            max-width:  80px;\n",
       "            font-size:  10pt;\n",
       "        }    #T_ad0a7d78_9e93_11e9_9517_e4b318d9a093row0_col7 {\n",
       "            background-color:  #4479bb;\n",
       "            max-width:  80px;\n",
       "            font-size:  10pt;\n",
       "        }    #T_ad0a7d78_9e93_11e9_9517_e4b318d9a093row0_col8 {\n",
       "            background-color:  #ecf2f8;\n",
       "            max-width:  80px;\n",
       "            font-size:  10pt;\n",
       "        }    #T_ad0a7d78_9e93_11e9_9517_e4b318d9a093row0_col9 {\n",
       "            background-color:  #dde7f3;\n",
       "            max-width:  80px;\n",
       "            font-size:  10pt;\n",
       "        }    #T_ad0a7d78_9e93_11e9_9517_e4b318d9a093row0_col10 {\n",
       "            background-color:  #aac2e0;\n",
       "            max-width:  80px;\n",
       "            font-size:  10pt;\n",
       "        }    #T_ad0a7d78_9e93_11e9_9517_e4b318d9a093row0_col11 {\n",
       "            background-color:  #4479bb;\n",
       "            max-width:  80px;\n",
       "            font-size:  10pt;\n",
       "        }    #T_ad0a7d78_9e93_11e9_9517_e4b318d9a093row0_col12 {\n",
       "            background-color:  #c6d6ea;\n",
       "            max-width:  80px;\n",
       "            font-size:  10pt;\n",
       "        }    #T_ad0a7d78_9e93_11e9_9517_e4b318d9a093row0_col13 {\n",
       "            background-color:  #d9e4f1;\n",
       "            max-width:  80px;\n",
       "            font-size:  10pt;\n",
       "        }    #T_ad0a7d78_9e93_11e9_9517_e4b318d9a093row0_col14 {\n",
       "            background-color:  #d9e4f1;\n",
       "            max-width:  80px;\n",
       "            font-size:  10pt;\n",
       "        }    #T_ad0a7d78_9e93_11e9_9517_e4b318d9a093row1_col0 {\n",
       "            background-color:  #6a94c9;\n",
       "            max-width:  80px;\n",
       "            font-size:  10pt;\n",
       "        }    #T_ad0a7d78_9e93_11e9_9517_e4b318d9a093row1_col1 {\n",
       "            background-color:  #da3b46;\n",
       "            max-width:  80px;\n",
       "            font-size:  10pt;\n",
       "        }    #T_ad0a7d78_9e93_11e9_9517_e4b318d9a093row1_col2 {\n",
       "            background-color:  #b7cbe5;\n",
       "            max-width:  80px;\n",
       "            font-size:  10pt;\n",
       "        }    #T_ad0a7d78_9e93_11e9_9517_e4b318d9a093row1_col3 {\n",
       "            background-color:  #83a6d2;\n",
       "            max-width:  80px;\n",
       "            font-size:  10pt;\n",
       "        }    #T_ad0a7d78_9e93_11e9_9517_e4b318d9a093row1_col4 {\n",
       "            background-color:  #6f98ca;\n",
       "            max-width:  80px;\n",
       "            font-size:  10pt;\n",
       "        }    #T_ad0a7d78_9e93_11e9_9517_e4b318d9a093row1_col5 {\n",
       "            background-color:  #749bcc;\n",
       "            max-width:  80px;\n",
       "            font-size:  10pt;\n",
       "        }    #T_ad0a7d78_9e93_11e9_9517_e4b318d9a093row1_col6 {\n",
       "            background-color:  #457abb;\n",
       "            max-width:  80px;\n",
       "            font-size:  10pt;\n",
       "        }    #T_ad0a7d78_9e93_11e9_9517_e4b318d9a093row1_col7 {\n",
       "            background-color:  #4479bb;\n",
       "            max-width:  80px;\n",
       "            font-size:  10pt;\n",
       "        }    #T_ad0a7d78_9e93_11e9_9517_e4b318d9a093row1_col8 {\n",
       "            background-color:  #98b5da;\n",
       "            max-width:  80px;\n",
       "            font-size:  10pt;\n",
       "        }    #T_ad0a7d78_9e93_11e9_9517_e4b318d9a093row1_col9 {\n",
       "            background-color:  #8dadd5;\n",
       "            max-width:  80px;\n",
       "            font-size:  10pt;\n",
       "        }    #T_ad0a7d78_9e93_11e9_9517_e4b318d9a093row1_col10 {\n",
       "            background-color:  #8faed6;\n",
       "            max-width:  80px;\n",
       "            font-size:  10pt;\n",
       "        }    #T_ad0a7d78_9e93_11e9_9517_e4b318d9a093row1_col11 {\n",
       "            background-color:  #4479bb;\n",
       "            max-width:  80px;\n",
       "            font-size:  10pt;\n",
       "        }    #T_ad0a7d78_9e93_11e9_9517_e4b318d9a093row1_col12 {\n",
       "            background-color:  #5a88c3;\n",
       "            max-width:  80px;\n",
       "            font-size:  10pt;\n",
       "        }    #T_ad0a7d78_9e93_11e9_9517_e4b318d9a093row1_col13 {\n",
       "            background-color:  #bdd0e7;\n",
       "            max-width:  80px;\n",
       "            font-size:  10pt;\n",
       "        }    #T_ad0a7d78_9e93_11e9_9517_e4b318d9a093row1_col14 {\n",
       "            background-color:  #bdd0e7;\n",
       "            max-width:  80px;\n",
       "            font-size:  10pt;\n",
       "        }    #T_ad0a7d78_9e93_11e9_9517_e4b318d9a093row2_col0 {\n",
       "            background-color:  #c9d8eb;\n",
       "            max-width:  80px;\n",
       "            font-size:  10pt;\n",
       "        }    #T_ad0a7d78_9e93_11e9_9517_e4b318d9a093row2_col1 {\n",
       "            background-color:  #e3ebf5;\n",
       "            max-width:  80px;\n",
       "            font-size:  10pt;\n",
       "        }    #T_ad0a7d78_9e93_11e9_9517_e4b318d9a093row2_col2 {\n",
       "            background-color:  #da3b46;\n",
       "            max-width:  80px;\n",
       "            font-size:  10pt;\n",
       "        }    #T_ad0a7d78_9e93_11e9_9517_e4b318d9a093row2_col3 {\n",
       "            background-color:  #b9cde6;\n",
       "            max-width:  80px;\n",
       "            font-size:  10pt;\n",
       "        }    #T_ad0a7d78_9e93_11e9_9517_e4b318d9a093row2_col4 {\n",
       "            background-color:  #c6d6ea;\n",
       "            max-width:  80px;\n",
       "            font-size:  10pt;\n",
       "        }    #T_ad0a7d78_9e93_11e9_9517_e4b318d9a093row2_col5 {\n",
       "            background-color:  #acc3e1;\n",
       "            max-width:  80px;\n",
       "            font-size:  10pt;\n",
       "        }    #T_ad0a7d78_9e93_11e9_9517_e4b318d9a093row2_col6 {\n",
       "            background-color:  #9eb9db;\n",
       "            max-width:  80px;\n",
       "            font-size:  10pt;\n",
       "        }    #T_ad0a7d78_9e93_11e9_9517_e4b318d9a093row2_col7 {\n",
       "            background-color:  #4479bb;\n",
       "            max-width:  80px;\n",
       "            font-size:  10pt;\n",
       "        }    #T_ad0a7d78_9e93_11e9_9517_e4b318d9a093row2_col8 {\n",
       "            background-color:  #f3c2c5;\n",
       "            max-width:  80px;\n",
       "            font-size:  10pt;\n",
       "        }    #T_ad0a7d78_9e93_11e9_9517_e4b318d9a093row2_col9 {\n",
       "            background-color:  #fae7e8;\n",
       "            max-width:  80px;\n",
       "            font-size:  10pt;\n",
       "        }    #T_ad0a7d78_9e93_11e9_9517_e4b318d9a093row2_col10 {\n",
       "            background-color:  #d9e4f1;\n",
       "            max-width:  80px;\n",
       "            font-size:  10pt;\n",
       "        }    #T_ad0a7d78_9e93_11e9_9517_e4b318d9a093row2_col11 {\n",
       "            background-color:  #4479bb;\n",
       "            max-width:  80px;\n",
       "            font-size:  10pt;\n",
       "        }    #T_ad0a7d78_9e93_11e9_9517_e4b318d9a093row2_col12 {\n",
       "            background-color:  #9fbadc;\n",
       "            max-width:  80px;\n",
       "            font-size:  10pt;\n",
       "        }    #T_ad0a7d78_9e93_11e9_9517_e4b318d9a093row2_col13 {\n",
       "            background-color:  #f3bfc3;\n",
       "            max-width:  80px;\n",
       "            font-size:  10pt;\n",
       "        }    #T_ad0a7d78_9e93_11e9_9517_e4b318d9a093row2_col14 {\n",
       "            background-color:  #f3bfc3;\n",
       "            max-width:  80px;\n",
       "            font-size:  10pt;\n",
       "        }    #T_ad0a7d78_9e93_11e9_9517_e4b318d9a093row3_col0 {\n",
       "            background-color:  #c3d4e9;\n",
       "            max-width:  80px;\n",
       "            font-size:  10pt;\n",
       "        }    #T_ad0a7d78_9e93_11e9_9517_e4b318d9a093row3_col1 {\n",
       "            background-color:  #95b3d8;\n",
       "            max-width:  80px;\n",
       "            font-size:  10pt;\n",
       "        }    #T_ad0a7d78_9e93_11e9_9517_e4b318d9a093row3_col2 {\n",
       "            background-color:  #94b2d8;\n",
       "            max-width:  80px;\n",
       "            font-size:  10pt;\n",
       "        }    #T_ad0a7d78_9e93_11e9_9517_e4b318d9a093row3_col3 {\n",
       "            background-color:  #da3b46;\n",
       "            max-width:  80px;\n",
       "            font-size:  10pt;\n",
       "        }    #T_ad0a7d78_9e93_11e9_9517_e4b318d9a093row3_col4 {\n",
       "            background-color:  #92b1d7;\n",
       "            max-width:  80px;\n",
       "            font-size:  10pt;\n",
       "        }    #T_ad0a7d78_9e93_11e9_9517_e4b318d9a093row3_col5 {\n",
       "            background-color:  #96b4d9;\n",
       "            max-width:  80px;\n",
       "            font-size:  10pt;\n",
       "        }    #T_ad0a7d78_9e93_11e9_9517_e4b318d9a093row3_col6 {\n",
       "            background-color:  #7ea2d0;\n",
       "            max-width:  80px;\n",
       "            font-size:  10pt;\n",
       "        }    #T_ad0a7d78_9e93_11e9_9517_e4b318d9a093row3_col7 {\n",
       "            background-color:  #4479bb;\n",
       "            max-width:  80px;\n",
       "            font-size:  10pt;\n",
       "        }    #T_ad0a7d78_9e93_11e9_9517_e4b318d9a093row3_col8 {\n",
       "            background-color:  #bbcee6;\n",
       "            max-width:  80px;\n",
       "            font-size:  10pt;\n",
       "        }    #T_ad0a7d78_9e93_11e9_9517_e4b318d9a093row3_col9 {\n",
       "            background-color:  #b8cce5;\n",
       "            max-width:  80px;\n",
       "            font-size:  10pt;\n",
       "        }    #T_ad0a7d78_9e93_11e9_9517_e4b318d9a093row3_col10 {\n",
       "            background-color:  #82a5d1;\n",
       "            max-width:  80px;\n",
       "            font-size:  10pt;\n",
       "        }    #T_ad0a7d78_9e93_11e9_9517_e4b318d9a093row3_col11 {\n",
       "            background-color:  #4479bb;\n",
       "            max-width:  80px;\n",
       "            font-size:  10pt;\n",
       "        }    #T_ad0a7d78_9e93_11e9_9517_e4b318d9a093row3_col12 {\n",
       "            background-color:  #8dadd5;\n",
       "            max-width:  80px;\n",
       "            font-size:  10pt;\n",
       "        }    #T_ad0a7d78_9e93_11e9_9517_e4b318d9a093row3_col13 {\n",
       "            background-color:  #a4bede;\n",
       "            max-width:  80px;\n",
       "            font-size:  10pt;\n",
       "        }    #T_ad0a7d78_9e93_11e9_9517_e4b318d9a093row3_col14 {\n",
       "            background-color:  #a4bede;\n",
       "            max-width:  80px;\n",
       "            font-size:  10pt;\n",
       "        }    #T_ad0a7d78_9e93_11e9_9517_e4b318d9a093row4_col0 {\n",
       "            background-color:  #85a7d2;\n",
       "            max-width:  80px;\n",
       "            font-size:  10pt;\n",
       "        }    #T_ad0a7d78_9e93_11e9_9517_e4b318d9a093row4_col1 {\n",
       "            background-color:  #739acc;\n",
       "            max-width:  80px;\n",
       "            font-size:  10pt;\n",
       "        }    #T_ad0a7d78_9e93_11e9_9517_e4b318d9a093row4_col2 {\n",
       "            background-color:  #94b2d8;\n",
       "            max-width:  80px;\n",
       "            font-size:  10pt;\n",
       "        }    #T_ad0a7d78_9e93_11e9_9517_e4b318d9a093row4_col3 {\n",
       "            background-color:  #83a6d2;\n",
       "            max-width:  80px;\n",
       "            font-size:  10pt;\n",
       "        }    #T_ad0a7d78_9e93_11e9_9517_e4b318d9a093row4_col4 {\n",
       "            background-color:  #da3b46;\n",
       "            max-width:  80px;\n",
       "            font-size:  10pt;\n",
       "        }    #T_ad0a7d78_9e93_11e9_9517_e4b318d9a093row4_col5 {\n",
       "            background-color:  #8dadd5;\n",
       "            max-width:  80px;\n",
       "            font-size:  10pt;\n",
       "        }    #T_ad0a7d78_9e93_11e9_9517_e4b318d9a093row4_col6 {\n",
       "            background-color:  #799fce;\n",
       "            max-width:  80px;\n",
       "            font-size:  10pt;\n",
       "        }    #T_ad0a7d78_9e93_11e9_9517_e4b318d9a093row4_col7 {\n",
       "            background-color:  #4479bb;\n",
       "            max-width:  80px;\n",
       "            font-size:  10pt;\n",
       "        }    #T_ad0a7d78_9e93_11e9_9517_e4b318d9a093row4_col8 {\n",
       "            background-color:  #9eb9db;\n",
       "            max-width:  80px;\n",
       "            font-size:  10pt;\n",
       "        }    #T_ad0a7d78_9e93_11e9_9517_e4b318d9a093row4_col9 {\n",
       "            background-color:  #8cacd5;\n",
       "            max-width:  80px;\n",
       "            font-size:  10pt;\n",
       "        }    #T_ad0a7d78_9e93_11e9_9517_e4b318d9a093row4_col10 {\n",
       "            background-color:  #81a4d1;\n",
       "            max-width:  80px;\n",
       "            font-size:  10pt;\n",
       "        }    #T_ad0a7d78_9e93_11e9_9517_e4b318d9a093row4_col11 {\n",
       "            background-color:  #4479bb;\n",
       "            max-width:  80px;\n",
       "            font-size:  10pt;\n",
       "        }    #T_ad0a7d78_9e93_11e9_9517_e4b318d9a093row4_col12 {\n",
       "            background-color:  #5f8cc5;\n",
       "            max-width:  80px;\n",
       "            font-size:  10pt;\n",
       "        }    #T_ad0a7d78_9e93_11e9_9517_e4b318d9a093row4_col13 {\n",
       "            background-color:  #a9c1e0;\n",
       "            max-width:  80px;\n",
       "            font-size:  10pt;\n",
       "        }    #T_ad0a7d78_9e93_11e9_9517_e4b318d9a093row4_col14 {\n",
       "            background-color:  #a9c1e0;\n",
       "            max-width:  80px;\n",
       "            font-size:  10pt;\n",
       "        }    #T_ad0a7d78_9e93_11e9_9517_e4b318d9a093row5_col0 {\n",
       "            background-color:  #96b4d9;\n",
       "            max-width:  80px;\n",
       "            font-size:  10pt;\n",
       "        }    #T_ad0a7d78_9e93_11e9_9517_e4b318d9a093row5_col1 {\n",
       "            background-color:  #6993c8;\n",
       "            max-width:  80px;\n",
       "            font-size:  10pt;\n",
       "        }    #T_ad0a7d78_9e93_11e9_9517_e4b318d9a093row5_col2 {\n",
       "            background-color:  #6590c7;\n",
       "            max-width:  80px;\n",
       "            font-size:  10pt;\n",
       "        }    #T_ad0a7d78_9e93_11e9_9517_e4b318d9a093row5_col3 {\n",
       "            background-color:  #799fce;\n",
       "            max-width:  80px;\n",
       "            font-size:  10pt;\n",
       "        }    #T_ad0a7d78_9e93_11e9_9517_e4b318d9a093row5_col4 {\n",
       "            background-color:  #81a4d1;\n",
       "            max-width:  80px;\n",
       "            font-size:  10pt;\n",
       "        }    #T_ad0a7d78_9e93_11e9_9517_e4b318d9a093row5_col5 {\n",
       "            background-color:  #da3b46;\n",
       "            max-width:  80px;\n",
       "            font-size:  10pt;\n",
       "        }    #T_ad0a7d78_9e93_11e9_9517_e4b318d9a093row5_col6 {\n",
       "            background-color:  #6a94c9;\n",
       "            max-width:  80px;\n",
       "            font-size:  10pt;\n",
       "        }    #T_ad0a7d78_9e93_11e9_9517_e4b318d9a093row5_col7 {\n",
       "            background-color:  #4479bb;\n",
       "            max-width:  80px;\n",
       "            font-size:  10pt;\n",
       "        }    #T_ad0a7d78_9e93_11e9_9517_e4b318d9a093row5_col8 {\n",
       "            background-color:  #81a4d1;\n",
       "            max-width:  80px;\n",
       "            font-size:  10pt;\n",
       "        }    #T_ad0a7d78_9e93_11e9_9517_e4b318d9a093row5_col9 {\n",
       "            background-color:  #6f98ca;\n",
       "            max-width:  80px;\n",
       "            font-size:  10pt;\n",
       "        }    #T_ad0a7d78_9e93_11e9_9517_e4b318d9a093row5_col10 {\n",
       "            background-color:  #86a8d3;\n",
       "            max-width:  80px;\n",
       "            font-size:  10pt;\n",
       "        }    #T_ad0a7d78_9e93_11e9_9517_e4b318d9a093row5_col11 {\n",
       "            background-color:  #4479bb;\n",
       "            max-width:  80px;\n",
       "            font-size:  10pt;\n",
       "        }    #T_ad0a7d78_9e93_11e9_9517_e4b318d9a093row5_col12 {\n",
       "            background-color:  #6b95c9;\n",
       "            max-width:  80px;\n",
       "            font-size:  10pt;\n",
       "        }    #T_ad0a7d78_9e93_11e9_9517_e4b318d9a093row5_col13 {\n",
       "            background-color:  #90afd6;\n",
       "            max-width:  80px;\n",
       "            font-size:  10pt;\n",
       "        }    #T_ad0a7d78_9e93_11e9_9517_e4b318d9a093row5_col14 {\n",
       "            background-color:  #90afd6;\n",
       "            max-width:  80px;\n",
       "            font-size:  10pt;\n",
       "        }    #T_ad0a7d78_9e93_11e9_9517_e4b318d9a093row6_col0 {\n",
       "            background-color:  #759ccd;\n",
       "            max-width:  80px;\n",
       "            font-size:  10pt;\n",
       "        }    #T_ad0a7d78_9e93_11e9_9517_e4b318d9a093row6_col1 {\n",
       "            background-color:  #4479bb;\n",
       "            max-width:  80px;\n",
       "            font-size:  10pt;\n",
       "        }    #T_ad0a7d78_9e93_11e9_9517_e4b318d9a093row6_col2 {\n",
       "            background-color:  #5f8cc5;\n",
       "            max-width:  80px;\n",
       "            font-size:  10pt;\n",
       "        }    #T_ad0a7d78_9e93_11e9_9517_e4b318d9a093row6_col3 {\n",
       "            background-color:  #6993c8;\n",
       "            max-width:  80px;\n",
       "            font-size:  10pt;\n",
       "        }    #T_ad0a7d78_9e93_11e9_9517_e4b318d9a093row6_col4 {\n",
       "            background-color:  #749bcc;\n",
       "            max-width:  80px;\n",
       "            font-size:  10pt;\n",
       "        }    #T_ad0a7d78_9e93_11e9_9517_e4b318d9a093row6_col5 {\n",
       "            background-color:  #749bcc;\n",
       "            max-width:  80px;\n",
       "            font-size:  10pt;\n",
       "        }    #T_ad0a7d78_9e93_11e9_9517_e4b318d9a093row6_col6 {\n",
       "            background-color:  #da3b46;\n",
       "            max-width:  80px;\n",
       "            font-size:  10pt;\n",
       "        }    #T_ad0a7d78_9e93_11e9_9517_e4b318d9a093row6_col7 {\n",
       "            background-color:  #6691c7;\n",
       "            max-width:  80px;\n",
       "            font-size:  10pt;\n",
       "        }    #T_ad0a7d78_9e93_11e9_9517_e4b318d9a093row6_col8 {\n",
       "            background-color:  #739acc;\n",
       "            max-width:  80px;\n",
       "            font-size:  10pt;\n",
       "        }    #T_ad0a7d78_9e93_11e9_9517_e4b318d9a093row6_col9 {\n",
       "            background-color:  #739acc;\n",
       "            max-width:  80px;\n",
       "            font-size:  10pt;\n",
       "        }    #T_ad0a7d78_9e93_11e9_9517_e4b318d9a093row6_col10 {\n",
       "            background-color:  #5f8cc5;\n",
       "            max-width:  80px;\n",
       "            font-size:  10pt;\n",
       "        }    #T_ad0a7d78_9e93_11e9_9517_e4b318d9a093row6_col11 {\n",
       "            background-color:  #4479bb;\n",
       "            max-width:  80px;\n",
       "            font-size:  10pt;\n",
       "        }    #T_ad0a7d78_9e93_11e9_9517_e4b318d9a093row6_col12 {\n",
       "            background-color:  #5485c1;\n",
       "            max-width:  80px;\n",
       "            font-size:  10pt;\n",
       "        }    #T_ad0a7d78_9e93_11e9_9517_e4b318d9a093row6_col13 {\n",
       "            background-color:  #5b89c3;\n",
       "            max-width:  80px;\n",
       "            font-size:  10pt;\n",
       "        }    #T_ad0a7d78_9e93_11e9_9517_e4b318d9a093row6_col14 {\n",
       "            background-color:  #5b89c3;\n",
       "            max-width:  80px;\n",
       "            font-size:  10pt;\n",
       "        }    #T_ad0a7d78_9e93_11e9_9517_e4b318d9a093row7_col0 {\n",
       "            background-color:  #4479bb;\n",
       "            max-width:  80px;\n",
       "            font-size:  10pt;\n",
       "        }    #T_ad0a7d78_9e93_11e9_9517_e4b318d9a093row7_col1 {\n",
       "            background-color:  #98b5da;\n",
       "            max-width:  80px;\n",
       "            font-size:  10pt;\n",
       "        }    #T_ad0a7d78_9e93_11e9_9517_e4b318d9a093row7_col2 {\n",
       "            background-color:  #5887c2;\n",
       "            max-width:  80px;\n",
       "            font-size:  10pt;\n",
       "        }    #T_ad0a7d78_9e93_11e9_9517_e4b318d9a093row7_col3 {\n",
       "            background-color:  #86a8d3;\n",
       "            max-width:  80px;\n",
       "            font-size:  10pt;\n",
       "        }    #T_ad0a7d78_9e93_11e9_9517_e4b318d9a093row7_col4 {\n",
       "            background-color:  #95b3d8;\n",
       "            max-width:  80px;\n",
       "            font-size:  10pt;\n",
       "        }    #T_ad0a7d78_9e93_11e9_9517_e4b318d9a093row7_col5 {\n",
       "            background-color:  #a2bcdd;\n",
       "            max-width:  80px;\n",
       "            font-size:  10pt;\n",
       "        }    #T_ad0a7d78_9e93_11e9_9517_e4b318d9a093row7_col6 {\n",
       "            background-color:  #b3c9e3;\n",
       "            max-width:  80px;\n",
       "            font-size:  10pt;\n",
       "        }    #T_ad0a7d78_9e93_11e9_9517_e4b318d9a093row7_col7 {\n",
       "            background-color:  #da3b46;\n",
       "            max-width:  80px;\n",
       "            font-size:  10pt;\n",
       "        }    #T_ad0a7d78_9e93_11e9_9517_e4b318d9a093row7_col8 {\n",
       "            background-color:  #5182bf;\n",
       "            max-width:  80px;\n",
       "            font-size:  10pt;\n",
       "        }    #T_ad0a7d78_9e93_11e9_9517_e4b318d9a093row7_col9 {\n",
       "            background-color:  #6993c8;\n",
       "            max-width:  80px;\n",
       "            font-size:  10pt;\n",
       "        }    #T_ad0a7d78_9e93_11e9_9517_e4b318d9a093row7_col10 {\n",
       "            background-color:  #9bb7da;\n",
       "            max-width:  80px;\n",
       "            font-size:  10pt;\n",
       "        }    #T_ad0a7d78_9e93_11e9_9517_e4b318d9a093row7_col11 {\n",
       "            background-color:  #4479bb;\n",
       "            max-width:  80px;\n",
       "            font-size:  10pt;\n",
       "        }    #T_ad0a7d78_9e93_11e9_9517_e4b318d9a093row7_col12 {\n",
       "            background-color:  #90afd6;\n",
       "            max-width:  80px;\n",
       "            font-size:  10pt;\n",
       "        }    #T_ad0a7d78_9e93_11e9_9517_e4b318d9a093row7_col13 {\n",
       "            background-color:  #628fc6;\n",
       "            max-width:  80px;\n",
       "            font-size:  10pt;\n",
       "        }    #T_ad0a7d78_9e93_11e9_9517_e4b318d9a093row7_col14 {\n",
       "            background-color:  #628fc6;\n",
       "            max-width:  80px;\n",
       "            font-size:  10pt;\n",
       "        }    #T_ad0a7d78_9e93_11e9_9517_e4b318d9a093row8_col0 {\n",
       "            background-color:  #e6edf6;\n",
       "            max-width:  80px;\n",
       "            font-size:  10pt;\n",
       "        }    #T_ad0a7d78_9e93_11e9_9517_e4b318d9a093row8_col1 {\n",
       "            background-color:  #cfddee;\n",
       "            max-width:  80px;\n",
       "            font-size:  10pt;\n",
       "        }    #T_ad0a7d78_9e93_11e9_9517_e4b318d9a093row8_col2 {\n",
       "            background-color:  #f3bfc3;\n",
       "            max-width:  80px;\n",
       "            font-size:  10pt;\n",
       "        }    #T_ad0a7d78_9e93_11e9_9517_e4b318d9a093row8_col3 {\n",
       "            background-color:  #dfe8f3;\n",
       "            max-width:  80px;\n",
       "            font-size:  10pt;\n",
       "        }    #T_ad0a7d78_9e93_11e9_9517_e4b318d9a093row8_col4 {\n",
       "            background-color:  #d3dfef;\n",
       "            max-width:  80px;\n",
       "            font-size:  10pt;\n",
       "        }    #T_ad0a7d78_9e93_11e9_9517_e4b318d9a093row8_col5 {\n",
       "            background-color:  #c6d6ea;\n",
       "            max-width:  80px;\n",
       "            font-size:  10pt;\n",
       "        }    #T_ad0a7d78_9e93_11e9_9517_e4b318d9a093row8_col6 {\n",
       "            background-color:  #b3c9e3;\n",
       "            max-width:  80px;\n",
       "            font-size:  10pt;\n",
       "        }    #T_ad0a7d78_9e93_11e9_9517_e4b318d9a093row8_col7 {\n",
       "            background-color:  #4479bb;\n",
       "            max-width:  80px;\n",
       "            font-size:  10pt;\n",
       "        }    #T_ad0a7d78_9e93_11e9_9517_e4b318d9a093row8_col8 {\n",
       "            background-color:  #da3b46;\n",
       "            max-width:  80px;\n",
       "            font-size:  10pt;\n",
       "        }    #T_ad0a7d78_9e93_11e9_9517_e4b318d9a093row8_col9 {\n",
       "            background-color:  #ec9ba1;\n",
       "            max-width:  80px;\n",
       "            font-size:  10pt;\n",
       "        }    #T_ad0a7d78_9e93_11e9_9517_e4b318d9a093row8_col10 {\n",
       "            background-color:  #e7eef6;\n",
       "            max-width:  80px;\n",
       "            font-size:  10pt;\n",
       "        }    #T_ad0a7d78_9e93_11e9_9517_e4b318d9a093row8_col11 {\n",
       "            background-color:  #4479bb;\n",
       "            max-width:  80px;\n",
       "            font-size:  10pt;\n",
       "        }    #T_ad0a7d78_9e93_11e9_9517_e4b318d9a093row8_col12 {\n",
       "            background-color:  #b8cce5;\n",
       "            max-width:  80px;\n",
       "            font-size:  10pt;\n",
       "        }    #T_ad0a7d78_9e93_11e9_9517_e4b318d9a093row8_col13 {\n",
       "            background-color:  #efa8ad;\n",
       "            max-width:  80px;\n",
       "            font-size:  10pt;\n",
       "        }    #T_ad0a7d78_9e93_11e9_9517_e4b318d9a093row8_col14 {\n",
       "            background-color:  #efa8ad;\n",
       "            max-width:  80px;\n",
       "            font-size:  10pt;\n",
       "        }    #T_ad0a7d78_9e93_11e9_9517_e4b318d9a093row9_col0 {\n",
       "            background-color:  #c6d6ea;\n",
       "            max-width:  80px;\n",
       "            font-size:  10pt;\n",
       "        }    #T_ad0a7d78_9e93_11e9_9517_e4b318d9a093row9_col1 {\n",
       "            background-color:  #b5cae4;\n",
       "            max-width:  80px;\n",
       "            font-size:  10pt;\n",
       "        }    #T_ad0a7d78_9e93_11e9_9517_e4b318d9a093row9_col2 {\n",
       "            background-color:  #f2f2f2;\n",
       "            max-width:  80px;\n",
       "            font-size:  10pt;\n",
       "        }    #T_ad0a7d78_9e93_11e9_9517_e4b318d9a093row9_col3 {\n",
       "            background-color:  #cddbed;\n",
       "            max-width:  80px;\n",
       "            font-size:  10pt;\n",
       "        }    #T_ad0a7d78_9e93_11e9_9517_e4b318d9a093row9_col4 {\n",
       "            background-color:  #b2c8e3;\n",
       "            max-width:  80px;\n",
       "            font-size:  10pt;\n",
       "        }    #T_ad0a7d78_9e93_11e9_9517_e4b318d9a093row9_col5 {\n",
       "            background-color:  #a6bfde;\n",
       "            max-width:  80px;\n",
       "            font-size:  10pt;\n",
       "        }    #T_ad0a7d78_9e93_11e9_9517_e4b318d9a093row9_col6 {\n",
       "            background-color:  #a0bbdc;\n",
       "            max-width:  80px;\n",
       "            font-size:  10pt;\n",
       "        }    #T_ad0a7d78_9e93_11e9_9517_e4b318d9a093row9_col7 {\n",
       "            background-color:  #4479bb;\n",
       "            max-width:  80px;\n",
       "            font-size:  10pt;\n",
       "        }    #T_ad0a7d78_9e93_11e9_9517_e4b318d9a093row9_col8 {\n",
       "            background-color:  #eda2a8;\n",
       "            max-width:  80px;\n",
       "            font-size:  10pt;\n",
       "        }    #T_ad0a7d78_9e93_11e9_9517_e4b318d9a093row9_col9 {\n",
       "            background-color:  #da3b46;\n",
       "            max-width:  80px;\n",
       "            font-size:  10pt;\n",
       "        }    #T_ad0a7d78_9e93_11e9_9517_e4b318d9a093row9_col10 {\n",
       "            background-color:  #a6bfde;\n",
       "            max-width:  80px;\n",
       "            font-size:  10pt;\n",
       "        }    #T_ad0a7d78_9e93_11e9_9517_e4b318d9a093row9_col11 {\n",
       "            background-color:  #4479bb;\n",
       "            max-width:  80px;\n",
       "            font-size:  10pt;\n",
       "        }    #T_ad0a7d78_9e93_11e9_9517_e4b318d9a093row9_col12 {\n",
       "            background-color:  #9cb8db;\n",
       "            max-width:  80px;\n",
       "            font-size:  10pt;\n",
       "        }    #T_ad0a7d78_9e93_11e9_9517_e4b318d9a093row9_col13 {\n",
       "            background-color:  #f2babe;\n",
       "            max-width:  80px;\n",
       "            font-size:  10pt;\n",
       "        }    #T_ad0a7d78_9e93_11e9_9517_e4b318d9a093row9_col14 {\n",
       "            background-color:  #f2babe;\n",
       "            max-width:  80px;\n",
       "            font-size:  10pt;\n",
       "        }    #T_ad0a7d78_9e93_11e9_9517_e4b318d9a093row10_col0 {\n",
       "            background-color:  #5686c1;\n",
       "            max-width:  80px;\n",
       "            font-size:  10pt;\n",
       "        }    #T_ad0a7d78_9e93_11e9_9517_e4b318d9a093row10_col1 {\n",
       "            background-color:  #8babd4;\n",
       "            max-width:  80px;\n",
       "            font-size:  10pt;\n",
       "        }    #T_ad0a7d78_9e93_11e9_9517_e4b318d9a093row10_col2 {\n",
       "            background-color:  #a6bfde;\n",
       "            max-width:  80px;\n",
       "            font-size:  10pt;\n",
       "        }    #T_ad0a7d78_9e93_11e9_9517_e4b318d9a093row10_col3 {\n",
       "            background-color:  #6a94c9;\n",
       "            max-width:  80px;\n",
       "            font-size:  10pt;\n",
       "        }    #T_ad0a7d78_9e93_11e9_9517_e4b318d9a093row10_col4 {\n",
       "            background-color:  #799fce;\n",
       "            max-width:  80px;\n",
       "            font-size:  10pt;\n",
       "        }    #T_ad0a7d78_9e93_11e9_9517_e4b318d9a093row10_col5 {\n",
       "            background-color:  #8dadd5;\n",
       "            max-width:  80px;\n",
       "            font-size:  10pt;\n",
       "        }    #T_ad0a7d78_9e93_11e9_9517_e4b318d9a093row10_col6 {\n",
       "            background-color:  #5c8ac4;\n",
       "            max-width:  80px;\n",
       "            font-size:  10pt;\n",
       "        }    #T_ad0a7d78_9e93_11e9_9517_e4b318d9a093row10_col7 {\n",
       "            background-color:  #4479bb;\n",
       "            max-width:  80px;\n",
       "            font-size:  10pt;\n",
       "        }    #T_ad0a7d78_9e93_11e9_9517_e4b318d9a093row10_col8 {\n",
       "            background-color:  #b1c7e2;\n",
       "            max-width:  80px;\n",
       "            font-size:  10pt;\n",
       "        }    #T_ad0a7d78_9e93_11e9_9517_e4b318d9a093row10_col9 {\n",
       "            background-color:  #759ccd;\n",
       "            max-width:  80px;\n",
       "            font-size:  10pt;\n",
       "        }    #T_ad0a7d78_9e93_11e9_9517_e4b318d9a093row10_col10 {\n",
       "            background-color:  #da3b46;\n",
       "            max-width:  80px;\n",
       "            font-size:  10pt;\n",
       "        }    #T_ad0a7d78_9e93_11e9_9517_e4b318d9a093row10_col11 {\n",
       "            background-color:  #4479bb;\n",
       "            max-width:  80px;\n",
       "            font-size:  10pt;\n",
       "        }    #T_ad0a7d78_9e93_11e9_9517_e4b318d9a093row10_col12 {\n",
       "            background-color:  #5c8ac4;\n",
       "            max-width:  80px;\n",
       "            font-size:  10pt;\n",
       "        }    #T_ad0a7d78_9e93_11e9_9517_e4b318d9a093row10_col13 {\n",
       "            background-color:  #c6d6ea;\n",
       "            max-width:  80px;\n",
       "            font-size:  10pt;\n",
       "        }    #T_ad0a7d78_9e93_11e9_9517_e4b318d9a093row10_col14 {\n",
       "            background-color:  #c6d6ea;\n",
       "            max-width:  80px;\n",
       "            font-size:  10pt;\n",
       "        }    #T_ad0a7d78_9e93_11e9_9517_e4b318d9a093row11_col0 {\n",
       "            background-color:  #4479bb;\n",
       "            max-width:  80px;\n",
       "            font-size:  10pt;\n",
       "        }    #T_ad0a7d78_9e93_11e9_9517_e4b318d9a093row11_col1 {\n",
       "            background-color:  #4479bb;\n",
       "            max-width:  80px;\n",
       "            font-size:  10pt;\n",
       "        }    #T_ad0a7d78_9e93_11e9_9517_e4b318d9a093row11_col2 {\n",
       "            background-color:  #4479bb;\n",
       "            max-width:  80px;\n",
       "            font-size:  10pt;\n",
       "        }    #T_ad0a7d78_9e93_11e9_9517_e4b318d9a093row11_col3 {\n",
       "            background-color:  #4479bb;\n",
       "            max-width:  80px;\n",
       "            font-size:  10pt;\n",
       "        }    #T_ad0a7d78_9e93_11e9_9517_e4b318d9a093row11_col4 {\n",
       "            background-color:  #4479bb;\n",
       "            max-width:  80px;\n",
       "            font-size:  10pt;\n",
       "        }    #T_ad0a7d78_9e93_11e9_9517_e4b318d9a093row11_col5 {\n",
       "            background-color:  #4479bb;\n",
       "            max-width:  80px;\n",
       "            font-size:  10pt;\n",
       "        }    #T_ad0a7d78_9e93_11e9_9517_e4b318d9a093row11_col6 {\n",
       "            background-color:  #4479bb;\n",
       "            max-width:  80px;\n",
       "            font-size:  10pt;\n",
       "        }    #T_ad0a7d78_9e93_11e9_9517_e4b318d9a093row11_col7 {\n",
       "            background-color:  #4479bb;\n",
       "            max-width:  80px;\n",
       "            font-size:  10pt;\n",
       "        }    #T_ad0a7d78_9e93_11e9_9517_e4b318d9a093row11_col8 {\n",
       "            background-color:  #4479bb;\n",
       "            max-width:  80px;\n",
       "            font-size:  10pt;\n",
       "        }    #T_ad0a7d78_9e93_11e9_9517_e4b318d9a093row11_col9 {\n",
       "            background-color:  #4479bb;\n",
       "            max-width:  80px;\n",
       "            font-size:  10pt;\n",
       "        }    #T_ad0a7d78_9e93_11e9_9517_e4b318d9a093row11_col10 {\n",
       "            background-color:  #4479bb;\n",
       "            max-width:  80px;\n",
       "            font-size:  10pt;\n",
       "        }    #T_ad0a7d78_9e93_11e9_9517_e4b318d9a093row11_col11 {\n",
       "            background-color:  #4479bb;\n",
       "            max-width:  80px;\n",
       "            font-size:  10pt;\n",
       "        }    #T_ad0a7d78_9e93_11e9_9517_e4b318d9a093row11_col12 {\n",
       "            background-color:  #4479bb;\n",
       "            max-width:  80px;\n",
       "            font-size:  10pt;\n",
       "        }    #T_ad0a7d78_9e93_11e9_9517_e4b318d9a093row11_col13 {\n",
       "            background-color:  #4479bb;\n",
       "            max-width:  80px;\n",
       "            font-size:  10pt;\n",
       "        }    #T_ad0a7d78_9e93_11e9_9517_e4b318d9a093row11_col14 {\n",
       "            background-color:  #4479bb;\n",
       "            max-width:  80px;\n",
       "            font-size:  10pt;\n",
       "        }    #T_ad0a7d78_9e93_11e9_9517_e4b318d9a093row12_col0 {\n",
       "            background-color:  #87a9d3;\n",
       "            max-width:  80px;\n",
       "            font-size:  10pt;\n",
       "        }    #T_ad0a7d78_9e93_11e9_9517_e4b318d9a093row12_col1 {\n",
       "            background-color:  #628fc6;\n",
       "            max-width:  80px;\n",
       "            font-size:  10pt;\n",
       "        }    #T_ad0a7d78_9e93_11e9_9517_e4b318d9a093row12_col2 {\n",
       "            background-color:  #6a94c9;\n",
       "            max-width:  80px;\n",
       "            font-size:  10pt;\n",
       "        }    #T_ad0a7d78_9e93_11e9_9517_e4b318d9a093row12_col3 {\n",
       "            background-color:  #82a5d1;\n",
       "            max-width:  80px;\n",
       "            font-size:  10pt;\n",
       "        }    #T_ad0a7d78_9e93_11e9_9517_e4b318d9a093row12_col4 {\n",
       "            background-color:  #6590c7;\n",
       "            max-width:  80px;\n",
       "            font-size:  10pt;\n",
       "        }    #T_ad0a7d78_9e93_11e9_9517_e4b318d9a093row12_col5 {\n",
       "            background-color:  #7ea2d0;\n",
       "            max-width:  80px;\n",
       "            font-size:  10pt;\n",
       "        }    #T_ad0a7d78_9e93_11e9_9517_e4b318d9a093row12_col6 {\n",
       "            background-color:  #5f8cc5;\n",
       "            max-width:  80px;\n",
       "            font-size:  10pt;\n",
       "        }    #T_ad0a7d78_9e93_11e9_9517_e4b318d9a093row12_col7 {\n",
       "            background-color:  #4479bb;\n",
       "            max-width:  80px;\n",
       "            font-size:  10pt;\n",
       "        }    #T_ad0a7d78_9e93_11e9_9517_e4b318d9a093row12_col8 {\n",
       "            background-color:  #81a4d1;\n",
       "            max-width:  80px;\n",
       "            font-size:  10pt;\n",
       "        }    #T_ad0a7d78_9e93_11e9_9517_e4b318d9a093row12_col9 {\n",
       "            background-color:  #779dcd;\n",
       "            max-width:  80px;\n",
       "            font-size:  10pt;\n",
       "        }    #T_ad0a7d78_9e93_11e9_9517_e4b318d9a093row12_col10 {\n",
       "            background-color:  #6993c8;\n",
       "            max-width:  80px;\n",
       "            font-size:  10pt;\n",
       "        }    #T_ad0a7d78_9e93_11e9_9517_e4b318d9a093row12_col11 {\n",
       "            background-color:  #4479bb;\n",
       "            max-width:  80px;\n",
       "            font-size:  10pt;\n",
       "        }    #T_ad0a7d78_9e93_11e9_9517_e4b318d9a093row12_col12 {\n",
       "            background-color:  #da3b46;\n",
       "            max-width:  80px;\n",
       "            font-size:  10pt;\n",
       "        }    #T_ad0a7d78_9e93_11e9_9517_e4b318d9a093row12_col13 {\n",
       "            background-color:  #a3bddd;\n",
       "            max-width:  80px;\n",
       "            font-size:  10pt;\n",
       "        }    #T_ad0a7d78_9e93_11e9_9517_e4b318d9a093row12_col14 {\n",
       "            background-color:  #a3bddd;\n",
       "            max-width:  80px;\n",
       "            font-size:  10pt;\n",
       "        }    #T_ad0a7d78_9e93_11e9_9517_e4b318d9a093row13_col0 {\n",
       "            background-color:  #c6d6ea;\n",
       "            max-width:  80px;\n",
       "            font-size:  10pt;\n",
       "        }    #T_ad0a7d78_9e93_11e9_9517_e4b318d9a093row13_col1 {\n",
       "            background-color:  #e4ecf5;\n",
       "            max-width:  80px;\n",
       "            font-size:  10pt;\n",
       "        }    #T_ad0a7d78_9e93_11e9_9517_e4b318d9a093row13_col2 {\n",
       "            background-color:  #f4c3c7;\n",
       "            max-width:  80px;\n",
       "            font-size:  10pt;\n",
       "        }    #T_ad0a7d78_9e93_11e9_9517_e4b318d9a093row13_col3 {\n",
       "            background-color:  #c0d2e8;\n",
       "            max-width:  80px;\n",
       "            font-size:  10pt;\n",
       "        }    #T_ad0a7d78_9e93_11e9_9517_e4b318d9a093row13_col4 {\n",
       "            background-color:  #d1deee;\n",
       "            max-width:  80px;\n",
       "            font-size:  10pt;\n",
       "        }    #T_ad0a7d78_9e93_11e9_9517_e4b318d9a093row13_col5 {\n",
       "            background-color:  #c6d6ea;\n",
       "            max-width:  80px;\n",
       "            font-size:  10pt;\n",
       "        }    #T_ad0a7d78_9e93_11e9_9517_e4b318d9a093row13_col6 {\n",
       "            background-color:  #92b1d7;\n",
       "            max-width:  80px;\n",
       "            font-size:  10pt;\n",
       "        }    #T_ad0a7d78_9e93_11e9_9517_e4b318d9a093row13_col7 {\n",
       "            background-color:  #4479bb;\n",
       "            max-width:  80px;\n",
       "            font-size:  10pt;\n",
       "        }    #T_ad0a7d78_9e93_11e9_9517_e4b318d9a093row13_col8 {\n",
       "            background-color:  #f0adb2;\n",
       "            max-width:  80px;\n",
       "            font-size:  10pt;\n",
       "        }    #T_ad0a7d78_9e93_11e9_9517_e4b318d9a093row13_col9 {\n",
       "            background-color:  #f1b7bc;\n",
       "            max-width:  80px;\n",
       "            font-size:  10pt;\n",
       "        }    #T_ad0a7d78_9e93_11e9_9517_e4b318d9a093row13_col10 {\n",
       "            background-color:  #ecf2f8;\n",
       "            max-width:  80px;\n",
       "            font-size:  10pt;\n",
       "        }    #T_ad0a7d78_9e93_11e9_9517_e4b318d9a093row13_col11 {\n",
       "            background-color:  #4479bb;\n",
       "            max-width:  80px;\n",
       "            font-size:  10pt;\n",
       "        }    #T_ad0a7d78_9e93_11e9_9517_e4b318d9a093row13_col12 {\n",
       "            background-color:  #c9d8eb;\n",
       "            max-width:  80px;\n",
       "            font-size:  10pt;\n",
       "        }    #T_ad0a7d78_9e93_11e9_9517_e4b318d9a093row13_col13 {\n",
       "            background-color:  #da3b46;\n",
       "            max-width:  80px;\n",
       "            font-size:  10pt;\n",
       "        }    #T_ad0a7d78_9e93_11e9_9517_e4b318d9a093row13_col14 {\n",
       "            background-color:  #da3b46;\n",
       "            max-width:  80px;\n",
       "            font-size:  10pt;\n",
       "        }    #T_ad0a7d78_9e93_11e9_9517_e4b318d9a093row14_col0 {\n",
       "            background-color:  #c6d6ea;\n",
       "            max-width:  80px;\n",
       "            font-size:  10pt;\n",
       "        }    #T_ad0a7d78_9e93_11e9_9517_e4b318d9a093row14_col1 {\n",
       "            background-color:  #e4ecf5;\n",
       "            max-width:  80px;\n",
       "            font-size:  10pt;\n",
       "        }    #T_ad0a7d78_9e93_11e9_9517_e4b318d9a093row14_col2 {\n",
       "            background-color:  #f4c3c7;\n",
       "            max-width:  80px;\n",
       "            font-size:  10pt;\n",
       "        }    #T_ad0a7d78_9e93_11e9_9517_e4b318d9a093row14_col3 {\n",
       "            background-color:  #c0d2e8;\n",
       "            max-width:  80px;\n",
       "            font-size:  10pt;\n",
       "        }    #T_ad0a7d78_9e93_11e9_9517_e4b318d9a093row14_col4 {\n",
       "            background-color:  #d1deee;\n",
       "            max-width:  80px;\n",
       "            font-size:  10pt;\n",
       "        }    #T_ad0a7d78_9e93_11e9_9517_e4b318d9a093row14_col5 {\n",
       "            background-color:  #c6d6ea;\n",
       "            max-width:  80px;\n",
       "            font-size:  10pt;\n",
       "        }    #T_ad0a7d78_9e93_11e9_9517_e4b318d9a093row14_col6 {\n",
       "            background-color:  #92b1d7;\n",
       "            max-width:  80px;\n",
       "            font-size:  10pt;\n",
       "        }    #T_ad0a7d78_9e93_11e9_9517_e4b318d9a093row14_col7 {\n",
       "            background-color:  #4479bb;\n",
       "            max-width:  80px;\n",
       "            font-size:  10pt;\n",
       "        }    #T_ad0a7d78_9e93_11e9_9517_e4b318d9a093row14_col8 {\n",
       "            background-color:  #f0adb2;\n",
       "            max-width:  80px;\n",
       "            font-size:  10pt;\n",
       "        }    #T_ad0a7d78_9e93_11e9_9517_e4b318d9a093row14_col9 {\n",
       "            background-color:  #f1b7bc;\n",
       "            max-width:  80px;\n",
       "            font-size:  10pt;\n",
       "        }    #T_ad0a7d78_9e93_11e9_9517_e4b318d9a093row14_col10 {\n",
       "            background-color:  #ecf2f8;\n",
       "            max-width:  80px;\n",
       "            font-size:  10pt;\n",
       "        }    #T_ad0a7d78_9e93_11e9_9517_e4b318d9a093row14_col11 {\n",
       "            background-color:  #4479bb;\n",
       "            max-width:  80px;\n",
       "            font-size:  10pt;\n",
       "        }    #T_ad0a7d78_9e93_11e9_9517_e4b318d9a093row14_col12 {\n",
       "            background-color:  #c9d8eb;\n",
       "            max-width:  80px;\n",
       "            font-size:  10pt;\n",
       "        }    #T_ad0a7d78_9e93_11e9_9517_e4b318d9a093row14_col13 {\n",
       "            background-color:  #da3b46;\n",
       "            max-width:  80px;\n",
       "            font-size:  10pt;\n",
       "        }    #T_ad0a7d78_9e93_11e9_9517_e4b318d9a093row14_col14 {\n",
       "            background-color:  #da3b46;\n",
       "            max-width:  80px;\n",
       "            font-size:  10pt;\n",
       "        }</style>  \n",
       "<table id=\"T_ad0a7d78_9e93_11e9_9517_e4b318d9a093\" ><caption>Hover to magify</caption> \n",
       "<thead>    <tr> \n",
       "        <th class=\"blank level0\" ></th> \n",
       "        <th class=\"col_heading level0 col0\" >age</th> \n",
       "        <th class=\"col_heading level0 col1\" >sex</th> \n",
       "        <th class=\"col_heading level0 col2\" >cp</th> \n",
       "        <th class=\"col_heading level0 col3\" >trestbps</th> \n",
       "        <th class=\"col_heading level0 col4\" >chol</th> \n",
       "        <th class=\"col_heading level0 col5\" >fbs</th> \n",
       "        <th class=\"col_heading level0 col6\" >restecg</th> \n",
       "        <th class=\"col_heading level0 col7\" >thalach</th> \n",
       "        <th class=\"col_heading level0 col8\" >exang</th> \n",
       "        <th class=\"col_heading level0 col9\" >oldpeak</th> \n",
       "        <th class=\"col_heading level0 col10\" >slope</th> \n",
       "        <th class=\"col_heading level0 col11\" >ca</th> \n",
       "        <th class=\"col_heading level0 col12\" >thal</th> \n",
       "        <th class=\"col_heading level0 col13\" >diagnosis</th> \n",
       "        <th class=\"col_heading level0 col14\" >Diagnosis</th> \n",
       "    </tr></thead> \n",
       "<tbody>    <tr> \n",
       "        <th id=\"T_ad0a7d78_9e93_11e9_9517_e4b318d9a093level0_row0\" class=\"row_heading level0 row0\" >age</th> \n",
       "        <td id=\"T_ad0a7d78_9e93_11e9_9517_e4b318d9a093row0_col0\" class=\"data row0 col0\" >1</td> \n",
       "        <td id=\"T_ad0a7d78_9e93_11e9_9517_e4b318d9a093row0_col1\" class=\"data row0 col1\" >0.014</td> \n",
       "        <td id=\"T_ad0a7d78_9e93_11e9_9517_e4b318d9a093row0_col2\" class=\"data row0 col2\" >0.15</td> \n",
       "        <td id=\"T_ad0a7d78_9e93_11e9_9517_e4b318d9a093row0_col3\" class=\"data row0 col3\" >0.25</td> \n",
       "        <td id=\"T_ad0a7d78_9e93_11e9_9517_e4b318d9a093row0_col4\" class=\"data row0 col4\" >0.087</td> \n",
       "        <td id=\"T_ad0a7d78_9e93_11e9_9517_e4b318d9a093row0_col5\" class=\"data row0 col5\" >0.18</td> \n",
       "        <td id=\"T_ad0a7d78_9e93_11e9_9517_e4b318d9a093row0_col6\" class=\"data row0 col6\" >0.052</td> \n",
       "        <td id=\"T_ad0a7d78_9e93_11e9_9517_e4b318d9a093row0_col7\" class=\"data row0 col7\" >-0.46</td> \n",
       "        <td id=\"T_ad0a7d78_9e93_11e9_9517_e4b318d9a093row0_col8\" class=\"data row0 col8\" >0.24</td> \n",
       "        <td id=\"T_ad0a7d78_9e93_11e9_9517_e4b318d9a093row0_col9\" class=\"data row0 col9\" >0.18</td> \n",
       "        <td id=\"T_ad0a7d78_9e93_11e9_9517_e4b318d9a093row0_col10\" class=\"data row0 col10\" >-0.037</td> \n",
       "        <td id=\"T_ad0a7d78_9e93_11e9_9517_e4b318d9a093row0_col11\" class=\"data row0 col11\" >nan</td> \n",
       "        <td id=\"T_ad0a7d78_9e93_11e9_9517_e4b318d9a093row0_col12\" class=\"data row0 col12\" >0.082</td> \n",
       "        <td id=\"T_ad0a7d78_9e93_11e9_9517_e4b318d9a093row0_col13\" class=\"data row0 col13\" >0.16</td> \n",
       "        <td id=\"T_ad0a7d78_9e93_11e9_9517_e4b318d9a093row0_col14\" class=\"data row0 col14\" >0.16</td> \n",
       "    </tr>    <tr> \n",
       "        <th id=\"T_ad0a7d78_9e93_11e9_9517_e4b318d9a093level0_row1\" class=\"row_heading level0 row1\" >sex</th> \n",
       "        <td id=\"T_ad0a7d78_9e93_11e9_9517_e4b318d9a093row1_col0\" class=\"data row1 col0\" >0.014</td> \n",
       "        <td id=\"T_ad0a7d78_9e93_11e9_9517_e4b318d9a093row1_col1\" class=\"data row1 col1\" >1</td> \n",
       "        <td id=\"T_ad0a7d78_9e93_11e9_9517_e4b318d9a093row1_col2\" class=\"data row1 col2\" >0.25</td> \n",
       "        <td id=\"T_ad0a7d78_9e93_11e9_9517_e4b318d9a093row1_col3\" class=\"data row1 col3\" >0.089</td> \n",
       "        <td id=\"T_ad0a7d78_9e93_11e9_9517_e4b318d9a093row1_col4\" class=\"data row1 col4\" >0.028</td> \n",
       "        <td id=\"T_ad0a7d78_9e93_11e9_9517_e4b318d9a093row1_col5\" class=\"data row1 col5\" >0.042</td> \n",
       "        <td id=\"T_ad0a7d78_9e93_11e9_9517_e4b318d9a093row1_col6\" class=\"data row1 col6\" >-0.1</td> \n",
       "        <td id=\"T_ad0a7d78_9e93_11e9_9517_e4b318d9a093row1_col7\" class=\"data row1 col7\" >-0.11</td> \n",
       "        <td id=\"T_ad0a7d78_9e93_11e9_9517_e4b318d9a093row1_col8\" class=\"data row1 col8\" >0.15</td> \n",
       "        <td id=\"T_ad0a7d78_9e93_11e9_9517_e4b318d9a093row1_col9\" class=\"data row1 col9\" >0.12</td> \n",
       "        <td id=\"T_ad0a7d78_9e93_11e9_9517_e4b318d9a093row1_col10\" class=\"data row1 col10\" >0.12</td> \n",
       "        <td id=\"T_ad0a7d78_9e93_11e9_9517_e4b318d9a093row1_col11\" class=\"data row1 col11\" >nan</td> \n",
       "        <td id=\"T_ad0a7d78_9e93_11e9_9517_e4b318d9a093row1_col12\" class=\"data row1 col12\" >-0.039</td> \n",
       "        <td id=\"T_ad0a7d78_9e93_11e9_9517_e4b318d9a093row1_col13\" class=\"data row1 col13\" >0.27</td> \n",
       "        <td id=\"T_ad0a7d78_9e93_11e9_9517_e4b318d9a093row1_col14\" class=\"data row1 col14\" >0.27</td> \n",
       "    </tr>    <tr> \n",
       "        <th id=\"T_ad0a7d78_9e93_11e9_9517_e4b318d9a093level0_row2\" class=\"row_heading level0 row2\" >cp</th> \n",
       "        <td id=\"T_ad0a7d78_9e93_11e9_9517_e4b318d9a093row2_col0\" class=\"data row2 col0\" >0.15</td> \n",
       "        <td id=\"T_ad0a7d78_9e93_11e9_9517_e4b318d9a093row2_col1\" class=\"data row2 col1\" >0.25</td> \n",
       "        <td id=\"T_ad0a7d78_9e93_11e9_9517_e4b318d9a093row2_col2\" class=\"data row2 col2\" >1</td> \n",
       "        <td id=\"T_ad0a7d78_9e93_11e9_9517_e4b318d9a093row2_col3\" class=\"data row2 col3\" >0.085</td> \n",
       "        <td id=\"T_ad0a7d78_9e93_11e9_9517_e4b318d9a093row2_col4\" class=\"data row2 col4\" >0.13</td> \n",
       "        <td id=\"T_ad0a7d78_9e93_11e9_9517_e4b318d9a093row2_col5\" class=\"data row2 col5\" >0.033</td> \n",
       "        <td id=\"T_ad0a7d78_9e93_11e9_9517_e4b318d9a093row2_col6\" class=\"data row2 col6\" >-0.018</td> \n",
       "        <td id=\"T_ad0a7d78_9e93_11e9_9517_e4b318d9a093row2_col7\" class=\"data row2 col7\" >-0.37</td> \n",
       "        <td id=\"T_ad0a7d78_9e93_11e9_9517_e4b318d9a093row2_col8\" class=\"data row2 col8\" >0.49</td> \n",
       "        <td id=\"T_ad0a7d78_9e93_11e9_9517_e4b318d9a093row2_col9\" class=\"data row2 col9\" >0.35</td> \n",
       "        <td id=\"T_ad0a7d78_9e93_11e9_9517_e4b318d9a093row2_col10\" class=\"data row2 col10\" >0.21</td> \n",
       "        <td id=\"T_ad0a7d78_9e93_11e9_9517_e4b318d9a093row2_col11\" class=\"data row2 col11\" >nan</td> \n",
       "        <td id=\"T_ad0a7d78_9e93_11e9_9517_e4b318d9a093row2_col12\" class=\"data row2 col12\" >-0.013</td> \n",
       "        <td id=\"T_ad0a7d78_9e93_11e9_9517_e4b318d9a093row2_col13\" class=\"data row2 col13\" >0.51</td> \n",
       "        <td id=\"T_ad0a7d78_9e93_11e9_9517_e4b318d9a093row2_col14\" class=\"data row2 col14\" >0.51</td> \n",
       "    </tr>    <tr> \n",
       "        <th id=\"T_ad0a7d78_9e93_11e9_9517_e4b318d9a093level0_row3\" class=\"row_heading level0 row3\" >trestbps</th> \n",
       "        <td id=\"T_ad0a7d78_9e93_11e9_9517_e4b318d9a093row3_col0\" class=\"data row3 col0\" >0.25</td> \n",
       "        <td id=\"T_ad0a7d78_9e93_11e9_9517_e4b318d9a093row3_col1\" class=\"data row3 col1\" >0.089</td> \n",
       "        <td id=\"T_ad0a7d78_9e93_11e9_9517_e4b318d9a093row3_col2\" class=\"data row3 col2\" >0.085</td> \n",
       "        <td id=\"T_ad0a7d78_9e93_11e9_9517_e4b318d9a093row3_col3\" class=\"data row3 col3\" >1</td> \n",
       "        <td id=\"T_ad0a7d78_9e93_11e9_9517_e4b318d9a093row3_col4\" class=\"data row3 col4\" >0.08</td> \n",
       "        <td id=\"T_ad0a7d78_9e93_11e9_9517_e4b318d9a093row3_col5\" class=\"data row3 col5\" >0.095</td> \n",
       "        <td id=\"T_ad0a7d78_9e93_11e9_9517_e4b318d9a093row3_col6\" class=\"data row3 col6\" >0.014</td> \n",
       "        <td id=\"T_ad0a7d78_9e93_11e9_9517_e4b318d9a093row3_col7\" class=\"data row3 col7\" >-0.18</td> \n",
       "        <td id=\"T_ad0a7d78_9e93_11e9_9517_e4b318d9a093row3_col8\" class=\"data row3 col8\" >0.21</td> \n",
       "        <td id=\"T_ad0a7d78_9e93_11e9_9517_e4b318d9a093row3_col9\" class=\"data row3 col9\" >0.21</td> \n",
       "        <td id=\"T_ad0a7d78_9e93_11e9_9517_e4b318d9a093row3_col10\" class=\"data row3 col10\" >0.025</td> \n",
       "        <td id=\"T_ad0a7d78_9e93_11e9_9517_e4b318d9a093row3_col11\" class=\"data row3 col11\" >nan</td> \n",
       "        <td id=\"T_ad0a7d78_9e93_11e9_9517_e4b318d9a093row3_col12\" class=\"data row3 col12\" >0.064</td> \n",
       "        <td id=\"T_ad0a7d78_9e93_11e9_9517_e4b318d9a093row3_col13\" class=\"data row3 col13\" >0.14</td> \n",
       "        <td id=\"T_ad0a7d78_9e93_11e9_9517_e4b318d9a093row3_col14\" class=\"data row3 col14\" >0.14</td> \n",
       "    </tr>    <tr> \n",
       "        <th id=\"T_ad0a7d78_9e93_11e9_9517_e4b318d9a093level0_row4\" class=\"row_heading level0 row4\" >chol</th> \n",
       "        <td id=\"T_ad0a7d78_9e93_11e9_9517_e4b318d9a093row4_col0\" class=\"data row4 col0\" >0.087</td> \n",
       "        <td id=\"T_ad0a7d78_9e93_11e9_9517_e4b318d9a093row4_col1\" class=\"data row4 col1\" >0.028</td> \n",
       "        <td id=\"T_ad0a7d78_9e93_11e9_9517_e4b318d9a093row4_col2\" class=\"data row4 col2\" >0.13</td> \n",
       "        <td id=\"T_ad0a7d78_9e93_11e9_9517_e4b318d9a093row4_col3\" class=\"data row4 col3\" >0.08</td> \n",
       "        <td id=\"T_ad0a7d78_9e93_11e9_9517_e4b318d9a093row4_col4\" class=\"data row4 col4\" >1</td> \n",
       "        <td id=\"T_ad0a7d78_9e93_11e9_9517_e4b318d9a093row4_col5\" class=\"data row4 col5\" >0.11</td> \n",
       "        <td id=\"T_ad0a7d78_9e93_11e9_9517_e4b318d9a093row4_col6\" class=\"data row4 col6\" >0.049</td> \n",
       "        <td id=\"T_ad0a7d78_9e93_11e9_9517_e4b318d9a093row4_col7\" class=\"data row4 col7\" >-0.12</td> \n",
       "        <td id=\"T_ad0a7d78_9e93_11e9_9517_e4b318d9a093row4_col8\" class=\"data row4 col8\" >0.16</td> \n",
       "        <td id=\"T_ad0a7d78_9e93_11e9_9517_e4b318d9a093row4_col9\" class=\"data row4 col9\" >0.11</td> \n",
       "        <td id=\"T_ad0a7d78_9e93_11e9_9517_e4b318d9a093row4_col10\" class=\"data row4 col10\" >0.073</td> \n",
       "        <td id=\"T_ad0a7d78_9e93_11e9_9517_e4b318d9a093row4_col11\" class=\"data row4 col11\" >nan</td> \n",
       "        <td id=\"T_ad0a7d78_9e93_11e9_9517_e4b318d9a093row4_col12\" class=\"data row4 col12\" >-0.032</td> \n",
       "        <td id=\"T_ad0a7d78_9e93_11e9_9517_e4b318d9a093row4_col13\" class=\"data row4 col13\" >0.2</td> \n",
       "        <td id=\"T_ad0a7d78_9e93_11e9_9517_e4b318d9a093row4_col14\" class=\"data row4 col14\" >0.2</td> \n",
       "    </tr>    <tr> \n",
       "        <th id=\"T_ad0a7d78_9e93_11e9_9517_e4b318d9a093level0_row5\" class=\"row_heading level0 row5\" >fbs</th> \n",
       "        <td id=\"T_ad0a7d78_9e93_11e9_9517_e4b318d9a093row5_col0\" class=\"data row5 col0\" >0.18</td> \n",
       "        <td id=\"T_ad0a7d78_9e93_11e9_9517_e4b318d9a093row5_col1\" class=\"data row5 col1\" >0.042</td> \n",
       "        <td id=\"T_ad0a7d78_9e93_11e9_9517_e4b318d9a093row5_col2\" class=\"data row5 col2\" >0.033</td> \n",
       "        <td id=\"T_ad0a7d78_9e93_11e9_9517_e4b318d9a093row5_col3\" class=\"data row5 col3\" >0.095</td> \n",
       "        <td id=\"T_ad0a7d78_9e93_11e9_9517_e4b318d9a093row5_col4\" class=\"data row5 col4\" >0.11</td> \n",
       "        <td id=\"T_ad0a7d78_9e93_11e9_9517_e4b318d9a093row5_col5\" class=\"data row5 col5\" >1</td> \n",
       "        <td id=\"T_ad0a7d78_9e93_11e9_9517_e4b318d9a093row5_col6\" class=\"data row5 col6\" >0.049</td> \n",
       "        <td id=\"T_ad0a7d78_9e93_11e9_9517_e4b318d9a093row5_col7\" class=\"data row5 col7\" >-0.071</td> \n",
       "        <td id=\"T_ad0a7d78_9e93_11e9_9517_e4b318d9a093row5_col8\" class=\"data row5 col8\" >0.11</td> \n",
       "        <td id=\"T_ad0a7d78_9e93_11e9_9517_e4b318d9a093row5_col9\" class=\"data row5 col9\" >0.062</td> \n",
       "        <td id=\"T_ad0a7d78_9e93_11e9_9517_e4b318d9a093row5_col10\" class=\"data row5 col10\" >0.13</td> \n",
       "        <td id=\"T_ad0a7d78_9e93_11e9_9517_e4b318d9a093row5_col11\" class=\"data row5 col11\" >nan</td> \n",
       "        <td id=\"T_ad0a7d78_9e93_11e9_9517_e4b318d9a093row5_col12\" class=\"data row5 col12\" >0.051</td> \n",
       "        <td id=\"T_ad0a7d78_9e93_11e9_9517_e4b318d9a093row5_col13\" class=\"data row5 col13\" >0.16</td> \n",
       "        <td id=\"T_ad0a7d78_9e93_11e9_9517_e4b318d9a093row5_col14\" class=\"data row5 col14\" >0.16</td> \n",
       "    </tr>    <tr> \n",
       "        <th id=\"T_ad0a7d78_9e93_11e9_9517_e4b318d9a093level0_row6\" class=\"row_heading level0 row6\" >restecg</th> \n",
       "        <td id=\"T_ad0a7d78_9e93_11e9_9517_e4b318d9a093row6_col0\" class=\"data row6 col0\" >0.052</td> \n",
       "        <td id=\"T_ad0a7d78_9e93_11e9_9517_e4b318d9a093row6_col1\" class=\"data row6 col1\" >-0.1</td> \n",
       "        <td id=\"T_ad0a7d78_9e93_11e9_9517_e4b318d9a093row6_col2\" class=\"data row6 col2\" >-0.018</td> \n",
       "        <td id=\"T_ad0a7d78_9e93_11e9_9517_e4b318d9a093row6_col3\" class=\"data row6 col3\" >0.014</td> \n",
       "        <td id=\"T_ad0a7d78_9e93_11e9_9517_e4b318d9a093row6_col4\" class=\"data row6 col4\" >0.049</td> \n",
       "        <td id=\"T_ad0a7d78_9e93_11e9_9517_e4b318d9a093row6_col5\" class=\"data row6 col5\" >0.049</td> \n",
       "        <td id=\"T_ad0a7d78_9e93_11e9_9517_e4b318d9a093row6_col6\" class=\"data row6 col6\" >1</td> \n",
       "        <td id=\"T_ad0a7d78_9e93_11e9_9517_e4b318d9a093row6_col7\" class=\"data row6 col7\" >0.0045</td> \n",
       "        <td id=\"T_ad0a7d78_9e93_11e9_9517_e4b318d9a093row6_col8\" class=\"data row6 col8\" >0.045</td> \n",
       "        <td id=\"T_ad0a7d78_9e93_11e9_9517_e4b318d9a093row6_col9\" class=\"data row6 col9\" >0.042</td> \n",
       "        <td id=\"T_ad0a7d78_9e93_11e9_9517_e4b318d9a093row6_col10\" class=\"data row6 col10\" >-0.017</td> \n",
       "        <td id=\"T_ad0a7d78_9e93_11e9_9517_e4b318d9a093row6_col11\" class=\"data row6 col11\" >nan</td> \n",
       "        <td id=\"T_ad0a7d78_9e93_11e9_9517_e4b318d9a093row6_col12\" class=\"data row6 col12\" >-0.049</td> \n",
       "        <td id=\"T_ad0a7d78_9e93_11e9_9517_e4b318d9a093row6_col13\" class=\"data row6 col13\" >-0.03</td> \n",
       "        <td id=\"T_ad0a7d78_9e93_11e9_9517_e4b318d9a093row6_col14\" class=\"data row6 col14\" >-0.03</td> \n",
       "    </tr>    <tr> \n",
       "        <th id=\"T_ad0a7d78_9e93_11e9_9517_e4b318d9a093level0_row7\" class=\"row_heading level0 row7\" >thalach</th> \n",
       "        <td id=\"T_ad0a7d78_9e93_11e9_9517_e4b318d9a093row7_col0\" class=\"data row7 col0\" >-0.46</td> \n",
       "        <td id=\"T_ad0a7d78_9e93_11e9_9517_e4b318d9a093row7_col1\" class=\"data row7 col1\" >-0.11</td> \n",
       "        <td id=\"T_ad0a7d78_9e93_11e9_9517_e4b318d9a093row7_col2\" class=\"data row7 col2\" >-0.37</td> \n",
       "        <td id=\"T_ad0a7d78_9e93_11e9_9517_e4b318d9a093row7_col3\" class=\"data row7 col3\" >-0.18</td> \n",
       "        <td id=\"T_ad0a7d78_9e93_11e9_9517_e4b318d9a093row7_col4\" class=\"data row7 col4\" >-0.12</td> \n",
       "        <td id=\"T_ad0a7d78_9e93_11e9_9517_e4b318d9a093row7_col5\" class=\"data row7 col5\" >-0.071</td> \n",
       "        <td id=\"T_ad0a7d78_9e93_11e9_9517_e4b318d9a093row7_col6\" class=\"data row7 col6\" >0.0045</td> \n",
       "        <td id=\"T_ad0a7d78_9e93_11e9_9517_e4b318d9a093row7_col7\" class=\"data row7 col7\" >1</td> \n",
       "        <td id=\"T_ad0a7d78_9e93_11e9_9517_e4b318d9a093row7_col8\" class=\"data row7 col8\" >-0.4</td> \n",
       "        <td id=\"T_ad0a7d78_9e93_11e9_9517_e4b318d9a093row7_col9\" class=\"data row7 col9\" >-0.3</td> \n",
       "        <td id=\"T_ad0a7d78_9e93_11e9_9517_e4b318d9a093row7_col10\" class=\"data row7 col10\" >-0.095</td> \n",
       "        <td id=\"T_ad0a7d78_9e93_11e9_9517_e4b318d9a093row7_col11\" class=\"data row7 col11\" >nan</td> \n",
       "        <td id=\"T_ad0a7d78_9e93_11e9_9517_e4b318d9a093row7_col12\" class=\"data row7 col12\" >-0.14</td> \n",
       "        <td id=\"T_ad0a7d78_9e93_11e9_9517_e4b318d9a093row7_col13\" class=\"data row7 col13\" >-0.33</td> \n",
       "        <td id=\"T_ad0a7d78_9e93_11e9_9517_e4b318d9a093row7_col14\" class=\"data row7 col14\" >-0.33</td> \n",
       "    </tr>    <tr> \n",
       "        <th id=\"T_ad0a7d78_9e93_11e9_9517_e4b318d9a093level0_row8\" class=\"row_heading level0 row8\" >exang</th> \n",
       "        <td id=\"T_ad0a7d78_9e93_11e9_9517_e4b318d9a093row8_col0\" class=\"data row8 col0\" >0.24</td> \n",
       "        <td id=\"T_ad0a7d78_9e93_11e9_9517_e4b318d9a093row8_col1\" class=\"data row8 col1\" >0.15</td> \n",
       "        <td id=\"T_ad0a7d78_9e93_11e9_9517_e4b318d9a093row8_col2\" class=\"data row8 col2\" >0.49</td> \n",
       "        <td id=\"T_ad0a7d78_9e93_11e9_9517_e4b318d9a093row8_col3\" class=\"data row8 col3\" >0.21</td> \n",
       "        <td id=\"T_ad0a7d78_9e93_11e9_9517_e4b318d9a093row8_col4\" class=\"data row8 col4\" >0.16</td> \n",
       "        <td id=\"T_ad0a7d78_9e93_11e9_9517_e4b318d9a093row8_col5\" class=\"data row8 col5\" >0.11</td> \n",
       "        <td id=\"T_ad0a7d78_9e93_11e9_9517_e4b318d9a093row8_col6\" class=\"data row8 col6\" >0.045</td> \n",
       "        <td id=\"T_ad0a7d78_9e93_11e9_9517_e4b318d9a093row8_col7\" class=\"data row8 col7\" >-0.4</td> \n",
       "        <td id=\"T_ad0a7d78_9e93_11e9_9517_e4b318d9a093row8_col8\" class=\"data row8 col8\" >1</td> \n",
       "        <td id=\"T_ad0a7d78_9e93_11e9_9517_e4b318d9a093row8_col9\" class=\"data row8 col9\" >0.63</td> \n",
       "        <td id=\"T_ad0a7d78_9e93_11e9_9517_e4b318d9a093row8_col10\" class=\"data row8 col10\" >0.25</td> \n",
       "        <td id=\"T_ad0a7d78_9e93_11e9_9517_e4b318d9a093row8_col11\" class=\"data row8 col11\" >nan</td> \n",
       "        <td id=\"T_ad0a7d78_9e93_11e9_9517_e4b318d9a093row8_col12\" class=\"data row8 col12\" >0.059</td> \n",
       "        <td id=\"T_ad0a7d78_9e93_11e9_9517_e4b318d9a093row8_col13\" class=\"data row8 col13\" >0.58</td> \n",
       "        <td id=\"T_ad0a7d78_9e93_11e9_9517_e4b318d9a093row8_col14\" class=\"data row8 col14\" >0.58</td> \n",
       "    </tr>    <tr> \n",
       "        <th id=\"T_ad0a7d78_9e93_11e9_9517_e4b318d9a093level0_row9\" class=\"row_heading level0 row9\" >oldpeak</th> \n",
       "        <td id=\"T_ad0a7d78_9e93_11e9_9517_e4b318d9a093row9_col0\" class=\"data row9 col0\" >0.18</td> \n",
       "        <td id=\"T_ad0a7d78_9e93_11e9_9517_e4b318d9a093row9_col1\" class=\"data row9 col1\" >0.12</td> \n",
       "        <td id=\"T_ad0a7d78_9e93_11e9_9517_e4b318d9a093row9_col2\" class=\"data row9 col2\" >0.35</td> \n",
       "        <td id=\"T_ad0a7d78_9e93_11e9_9517_e4b318d9a093row9_col3\" class=\"data row9 col3\" >0.21</td> \n",
       "        <td id=\"T_ad0a7d78_9e93_11e9_9517_e4b318d9a093row9_col4\" class=\"data row9 col4\" >0.11</td> \n",
       "        <td id=\"T_ad0a7d78_9e93_11e9_9517_e4b318d9a093row9_col5\" class=\"data row9 col5\" >0.062</td> \n",
       "        <td id=\"T_ad0a7d78_9e93_11e9_9517_e4b318d9a093row9_col6\" class=\"data row9 col6\" >0.042</td> \n",
       "        <td id=\"T_ad0a7d78_9e93_11e9_9517_e4b318d9a093row9_col7\" class=\"data row9 col7\" >-0.3</td> \n",
       "        <td id=\"T_ad0a7d78_9e93_11e9_9517_e4b318d9a093row9_col8\" class=\"data row9 col8\" >0.63</td> \n",
       "        <td id=\"T_ad0a7d78_9e93_11e9_9517_e4b318d9a093row9_col9\" class=\"data row9 col9\" >1</td> \n",
       "        <td id=\"T_ad0a7d78_9e93_11e9_9517_e4b318d9a093row9_col10\" class=\"data row9 col10\" >0.062</td> \n",
       "        <td id=\"T_ad0a7d78_9e93_11e9_9517_e4b318d9a093row9_col11\" class=\"data row9 col11\" >nan</td> \n",
       "        <td id=\"T_ad0a7d78_9e93_11e9_9517_e4b318d9a093row9_col12\" class=\"data row9 col12\" >0.028</td> \n",
       "        <td id=\"T_ad0a7d78_9e93_11e9_9517_e4b318d9a093row9_col13\" class=\"data row9 col13\" >0.55</td> \n",
       "        <td id=\"T_ad0a7d78_9e93_11e9_9517_e4b318d9a093row9_col14\" class=\"data row9 col14\" >0.55</td> \n",
       "    </tr>    <tr> \n",
       "        <th id=\"T_ad0a7d78_9e93_11e9_9517_e4b318d9a093level0_row10\" class=\"row_heading level0 row10\" >slope</th> \n",
       "        <td id=\"T_ad0a7d78_9e93_11e9_9517_e4b318d9a093row10_col0\" class=\"data row10 col0\" >-0.037</td> \n",
       "        <td id=\"T_ad0a7d78_9e93_11e9_9517_e4b318d9a093row10_col1\" class=\"data row10 col1\" >0.12</td> \n",
       "        <td id=\"T_ad0a7d78_9e93_11e9_9517_e4b318d9a093row10_col2\" class=\"data row10 col2\" >0.21</td> \n",
       "        <td id=\"T_ad0a7d78_9e93_11e9_9517_e4b318d9a093row10_col3\" class=\"data row10 col3\" >0.025</td> \n",
       "        <td id=\"T_ad0a7d78_9e93_11e9_9517_e4b318d9a093row10_col4\" class=\"data row10 col4\" >0.073</td> \n",
       "        <td id=\"T_ad0a7d78_9e93_11e9_9517_e4b318d9a093row10_col5\" class=\"data row10 col5\" >0.13</td> \n",
       "        <td id=\"T_ad0a7d78_9e93_11e9_9517_e4b318d9a093row10_col6\" class=\"data row10 col6\" >-0.017</td> \n",
       "        <td id=\"T_ad0a7d78_9e93_11e9_9517_e4b318d9a093row10_col7\" class=\"data row10 col7\" >-0.095</td> \n",
       "        <td id=\"T_ad0a7d78_9e93_11e9_9517_e4b318d9a093row10_col8\" class=\"data row10 col8\" >0.25</td> \n",
       "        <td id=\"T_ad0a7d78_9e93_11e9_9517_e4b318d9a093row10_col9\" class=\"data row10 col9\" >0.062</td> \n",
       "        <td id=\"T_ad0a7d78_9e93_11e9_9517_e4b318d9a093row10_col10\" class=\"data row10 col10\" >1</td> \n",
       "        <td id=\"T_ad0a7d78_9e93_11e9_9517_e4b318d9a093row10_col11\" class=\"data row10 col11\" >nan</td> \n",
       "        <td id=\"T_ad0a7d78_9e93_11e9_9517_e4b318d9a093row10_col12\" class=\"data row10 col12\" >-0.016</td> \n",
       "        <td id=\"T_ad0a7d78_9e93_11e9_9517_e4b318d9a093row10_col13\" class=\"data row10 col13\" >0.31</td> \n",
       "        <td id=\"T_ad0a7d78_9e93_11e9_9517_e4b318d9a093row10_col14\" class=\"data row10 col14\" >0.31</td> \n",
       "    </tr>    <tr> \n",
       "        <th id=\"T_ad0a7d78_9e93_11e9_9517_e4b318d9a093level0_row11\" class=\"row_heading level0 row11\" >ca</th> \n",
       "        <td id=\"T_ad0a7d78_9e93_11e9_9517_e4b318d9a093row11_col0\" class=\"data row11 col0\" >nan</td> \n",
       "        <td id=\"T_ad0a7d78_9e93_11e9_9517_e4b318d9a093row11_col1\" class=\"data row11 col1\" >nan</td> \n",
       "        <td id=\"T_ad0a7d78_9e93_11e9_9517_e4b318d9a093row11_col2\" class=\"data row11 col2\" >nan</td> \n",
       "        <td id=\"T_ad0a7d78_9e93_11e9_9517_e4b318d9a093row11_col3\" class=\"data row11 col3\" >nan</td> \n",
       "        <td id=\"T_ad0a7d78_9e93_11e9_9517_e4b318d9a093row11_col4\" class=\"data row11 col4\" >nan</td> \n",
       "        <td id=\"T_ad0a7d78_9e93_11e9_9517_e4b318d9a093row11_col5\" class=\"data row11 col5\" >nan</td> \n",
       "        <td id=\"T_ad0a7d78_9e93_11e9_9517_e4b318d9a093row11_col6\" class=\"data row11 col6\" >nan</td> \n",
       "        <td id=\"T_ad0a7d78_9e93_11e9_9517_e4b318d9a093row11_col7\" class=\"data row11 col7\" >nan</td> \n",
       "        <td id=\"T_ad0a7d78_9e93_11e9_9517_e4b318d9a093row11_col8\" class=\"data row11 col8\" >nan</td> \n",
       "        <td id=\"T_ad0a7d78_9e93_11e9_9517_e4b318d9a093row11_col9\" class=\"data row11 col9\" >nan</td> \n",
       "        <td id=\"T_ad0a7d78_9e93_11e9_9517_e4b318d9a093row11_col10\" class=\"data row11 col10\" >nan</td> \n",
       "        <td id=\"T_ad0a7d78_9e93_11e9_9517_e4b318d9a093row11_col11\" class=\"data row11 col11\" >nan</td> \n",
       "        <td id=\"T_ad0a7d78_9e93_11e9_9517_e4b318d9a093row11_col12\" class=\"data row11 col12\" >nan</td> \n",
       "        <td id=\"T_ad0a7d78_9e93_11e9_9517_e4b318d9a093row11_col13\" class=\"data row11 col13\" >nan</td> \n",
       "        <td id=\"T_ad0a7d78_9e93_11e9_9517_e4b318d9a093row11_col14\" class=\"data row11 col14\" >nan</td> \n",
       "    </tr>    <tr> \n",
       "        <th id=\"T_ad0a7d78_9e93_11e9_9517_e4b318d9a093level0_row12\" class=\"row_heading level0 row12\" >thal</th> \n",
       "        <td id=\"T_ad0a7d78_9e93_11e9_9517_e4b318d9a093row12_col0\" class=\"data row12 col0\" >0.082</td> \n",
       "        <td id=\"T_ad0a7d78_9e93_11e9_9517_e4b318d9a093row12_col1\" class=\"data row12 col1\" >-0.039</td> \n",
       "        <td id=\"T_ad0a7d78_9e93_11e9_9517_e4b318d9a093row12_col2\" class=\"data row12 col2\" >-0.013</td> \n",
       "        <td id=\"T_ad0a7d78_9e93_11e9_9517_e4b318d9a093row12_col3\" class=\"data row12 col3\" >0.064</td> \n",
       "        <td id=\"T_ad0a7d78_9e93_11e9_9517_e4b318d9a093row12_col4\" class=\"data row12 col4\" >-0.032</td> \n",
       "        <td id=\"T_ad0a7d78_9e93_11e9_9517_e4b318d9a093row12_col5\" class=\"data row12 col5\" >0.051</td> \n",
       "        <td id=\"T_ad0a7d78_9e93_11e9_9517_e4b318d9a093row12_col6\" class=\"data row12 col6\" >-0.049</td> \n",
       "        <td id=\"T_ad0a7d78_9e93_11e9_9517_e4b318d9a093row12_col7\" class=\"data row12 col7\" >-0.14</td> \n",
       "        <td id=\"T_ad0a7d78_9e93_11e9_9517_e4b318d9a093row12_col8\" class=\"data row12 col8\" >0.059</td> \n",
       "        <td id=\"T_ad0a7d78_9e93_11e9_9517_e4b318d9a093row12_col9\" class=\"data row12 col9\" >0.028</td> \n",
       "        <td id=\"T_ad0a7d78_9e93_11e9_9517_e4b318d9a093row12_col10\" class=\"data row12 col10\" >-0.016</td> \n",
       "        <td id=\"T_ad0a7d78_9e93_11e9_9517_e4b318d9a093row12_col11\" class=\"data row12 col11\" >nan</td> \n",
       "        <td id=\"T_ad0a7d78_9e93_11e9_9517_e4b318d9a093row12_col12\" class=\"data row12 col12\" >1</td> \n",
       "        <td id=\"T_ad0a7d78_9e93_11e9_9517_e4b318d9a093row12_col13\" class=\"data row12 col13\" >0.17</td> \n",
       "        <td id=\"T_ad0a7d78_9e93_11e9_9517_e4b318d9a093row12_col14\" class=\"data row12 col14\" >0.17</td> \n",
       "    </tr>    <tr> \n",
       "        <th id=\"T_ad0a7d78_9e93_11e9_9517_e4b318d9a093level0_row13\" class=\"row_heading level0 row13\" >diagnosis</th> \n",
       "        <td id=\"T_ad0a7d78_9e93_11e9_9517_e4b318d9a093row13_col0\" class=\"data row13 col0\" >0.16</td> \n",
       "        <td id=\"T_ad0a7d78_9e93_11e9_9517_e4b318d9a093row13_col1\" class=\"data row13 col1\" >0.27</td> \n",
       "        <td id=\"T_ad0a7d78_9e93_11e9_9517_e4b318d9a093row13_col2\" class=\"data row13 col2\" >0.51</td> \n",
       "        <td id=\"T_ad0a7d78_9e93_11e9_9517_e4b318d9a093row13_col3\" class=\"data row13 col3\" >0.14</td> \n",
       "        <td id=\"T_ad0a7d78_9e93_11e9_9517_e4b318d9a093row13_col4\" class=\"data row13 col4\" >0.2</td> \n",
       "        <td id=\"T_ad0a7d78_9e93_11e9_9517_e4b318d9a093row13_col5\" class=\"data row13 col5\" >0.16</td> \n",
       "        <td id=\"T_ad0a7d78_9e93_11e9_9517_e4b318d9a093row13_col6\" class=\"data row13 col6\" >-0.03</td> \n",
       "        <td id=\"T_ad0a7d78_9e93_11e9_9517_e4b318d9a093row13_col7\" class=\"data row13 col7\" >-0.33</td> \n",
       "        <td id=\"T_ad0a7d78_9e93_11e9_9517_e4b318d9a093row13_col8\" class=\"data row13 col8\" >0.58</td> \n",
       "        <td id=\"T_ad0a7d78_9e93_11e9_9517_e4b318d9a093row13_col9\" class=\"data row13 col9\" >0.55</td> \n",
       "        <td id=\"T_ad0a7d78_9e93_11e9_9517_e4b318d9a093row13_col10\" class=\"data row13 col10\" >0.31</td> \n",
       "        <td id=\"T_ad0a7d78_9e93_11e9_9517_e4b318d9a093row13_col11\" class=\"data row13 col11\" >nan</td> \n",
       "        <td id=\"T_ad0a7d78_9e93_11e9_9517_e4b318d9a093row13_col12\" class=\"data row13 col12\" >0.17</td> \n",
       "        <td id=\"T_ad0a7d78_9e93_11e9_9517_e4b318d9a093row13_col13\" class=\"data row13 col13\" >1</td> \n",
       "        <td id=\"T_ad0a7d78_9e93_11e9_9517_e4b318d9a093row13_col14\" class=\"data row13 col14\" >1</td> \n",
       "    </tr>    <tr> \n",
       "        <th id=\"T_ad0a7d78_9e93_11e9_9517_e4b318d9a093level0_row14\" class=\"row_heading level0 row14\" >Diagnosis</th> \n",
       "        <td id=\"T_ad0a7d78_9e93_11e9_9517_e4b318d9a093row14_col0\" class=\"data row14 col0\" >0.16</td> \n",
       "        <td id=\"T_ad0a7d78_9e93_11e9_9517_e4b318d9a093row14_col1\" class=\"data row14 col1\" >0.27</td> \n",
       "        <td id=\"T_ad0a7d78_9e93_11e9_9517_e4b318d9a093row14_col2\" class=\"data row14 col2\" >0.51</td> \n",
       "        <td id=\"T_ad0a7d78_9e93_11e9_9517_e4b318d9a093row14_col3\" class=\"data row14 col3\" >0.14</td> \n",
       "        <td id=\"T_ad0a7d78_9e93_11e9_9517_e4b318d9a093row14_col4\" class=\"data row14 col4\" >0.2</td> \n",
       "        <td id=\"T_ad0a7d78_9e93_11e9_9517_e4b318d9a093row14_col5\" class=\"data row14 col5\" >0.16</td> \n",
       "        <td id=\"T_ad0a7d78_9e93_11e9_9517_e4b318d9a093row14_col6\" class=\"data row14 col6\" >-0.03</td> \n",
       "        <td id=\"T_ad0a7d78_9e93_11e9_9517_e4b318d9a093row14_col7\" class=\"data row14 col7\" >-0.33</td> \n",
       "        <td id=\"T_ad0a7d78_9e93_11e9_9517_e4b318d9a093row14_col8\" class=\"data row14 col8\" >0.58</td> \n",
       "        <td id=\"T_ad0a7d78_9e93_11e9_9517_e4b318d9a093row14_col9\" class=\"data row14 col9\" >0.55</td> \n",
       "        <td id=\"T_ad0a7d78_9e93_11e9_9517_e4b318d9a093row14_col10\" class=\"data row14 col10\" >0.31</td> \n",
       "        <td id=\"T_ad0a7d78_9e93_11e9_9517_e4b318d9a093row14_col11\" class=\"data row14 col11\" >nan</td> \n",
       "        <td id=\"T_ad0a7d78_9e93_11e9_9517_e4b318d9a093row14_col12\" class=\"data row14 col12\" >0.17</td> \n",
       "        <td id=\"T_ad0a7d78_9e93_11e9_9517_e4b318d9a093row14_col13\" class=\"data row14 col13\" >1</td> \n",
       "        <td id=\"T_ad0a7d78_9e93_11e9_9517_e4b318d9a093row14_col14\" class=\"data row14 col14\" >1</td> \n",
       "    </tr></tbody> \n",
       "</table> "
      ],
      "text/plain": [
       "<pandas.io.formats.style.Styler at 0x258559c6be0>"
      ]
     },
     "execution_count": 44,
     "metadata": {},
     "output_type": "execute_result"
    }
   ],
   "source": [
    "#build heatmap\n",
    "\n",
    "cmap = sns.diverging_palette(250, 10, n=3, as_cmap=True)\n",
    "\n",
    "def magnify():\n",
    "    return [dict(selector=\"th\",\n",
    "                 props=[(\"font-size\", \"7pt\")]),\n",
    "            dict(selector=\"td\",\n",
    "                 props=[('padding', \"0em 0em\")]),\n",
    "            dict(selector=\"th:hover\",\n",
    "                 props=[(\"font-size\", \"12pt\")]),\n",
    "            dict(selector=\"tr:hover td:hover\",\n",
    "                 props=[('max-width', '200px'),\n",
    "                        ('font-size', '12pt')])\n",
    "]\n",
    "\n",
    "corr.style.background_gradient(cmap, axis=1)\\\n",
    "    .set_properties(**{'max-width': '80px', 'font-size': '10pt'})\\\n",
    "    .set_caption(\"Hover to magify\")\\\n",
    "    .set_precision(2)\\\n",
    "    .set_table_styles(magnify())"
   ]
  },
  {
   "cell_type": "markdown",
   "metadata": {},
   "source": [
    "### Exploratory Visualization"
   ]
  },
  {
   "cell_type": "code",
   "execution_count": 45,
   "metadata": {},
   "outputs": [
    {
     "data": {
      "image/png": "[encoded data removed]",
      "text/plain": [
       "<Figure size 432x288 with 1 Axes>"
      ]
     },
     "metadata": {},
     "output_type": "display_data"
    }
   ],
   "source": [
    "import matplotlib.pyplot as plt\n",
    "%matplotlib inline\n",
    "\n",
    "plt.xlabel(\"age\")\n",
    "plt.ylabel(\"trestbps\")\n",
    "\n",
    "# define title\n",
    "plt.title(\"Relationship between age and blood pressure\")\n",
    "\n",
    "# plot\n",
    "plt.scatter(df['age'], df['trestbps'])\n",
    "plt.show()\n"
   ]
  },
  {
   "cell_type": "code",
   "execution_count": 46,
   "metadata": {},
   "outputs": [
    {
     "data": {
      "image/png": "[encoded data removed]",
      "text/plain": [
       "<Figure size 432x288 with 1 Axes>"
      ]
     },
     "metadata": {},
     "output_type": "display_data"
    }
   ],
   "source": [
    "plt.xlabel(\"age\")\n",
    "plt.ylabel(\"restecg\")\n",
    "\n",
    "# define title\n",
    "plt.title(\"Relationship between age and electrocardiographic\")\n",
    "\n",
    "# plot\n",
    "plt.scatter(df['age'], df['restecg'], color = 'green')\n",
    "plt.show()"
   ]
  },
  {
   "cell_type": "code",
   "execution_count": 47,
   "metadata": {},
   "outputs": [
    {
     "data": {
      "image/png": "[encoded data removed]",
      "text/plain": [
       "<Figure size 432x288 with 1 Axes>"
      ]
     },
     "metadata": {},
     "output_type": "display_data"
    }
   ],
   "source": [
    "plt.xlabel(\"age\")\n",
    "plt.ylabel(\"fbs\")\n",
    "\n",
    "# define title\n",
    "plt.title(\"Relationship between age and fasting blood sugar\")\n",
    "\n",
    "# plot\n",
    "plt.scatter(df['age'], df['fbs'], color = 'green')\n",
    "plt.show()"
   ]
  },
  {
   "cell_type": "code",
   "execution_count": 48,
   "metadata": {},
   "outputs": [
    {
     "data": {
      "image/png": "[encoded data removed]",
      "text/plain": [
       "<Figure size 432x288 with 1 Axes>"
      ]
     },
     "metadata": {},
     "output_type": "display_data"
    }
   ],
   "source": [
    "plt.xlabel(\"age\")\n",
    "plt.ylabel(\"thal\")\n",
    "\n",
    "# define title\n",
    "plt.title(\"Relationship between age and thal\")\n",
    "\n",
    "# plot\n",
    "plt.scatter(df['age'], df['thal'], color = 'orange')\n",
    "plt.show()"
   ]
  },
  {
   "cell_type": "code",
   "execution_count": 49,
   "metadata": {},
   "outputs": [
    {
     "data": {
      "text/plain": [
       "Index(['age', 'sex', 'cp', 'trestbps', 'chol', 'fbs', 'restecg', 'thalach',\n",
       "       'exang', 'oldpeak', 'slope', 'ca', 'thal', 'diagnosis', 'Diagnosis'],\n",
       "      dtype='object')"
      ]
     },
     "execution_count": 49,
     "metadata": {},
     "output_type": "execute_result"
    }
   ],
   "source": [
    "df.columns"
   ]
  },
  {
   "cell_type": "markdown",
   "metadata": {},
   "source": [
    "#### search by the correlation between dependent variable and each feature"
   ]
  },
  {
   "cell_type": "code",
   "execution_count": 50,
   "metadata": {},
   "outputs": [
    {
     "data": {
      "text/plain": [
       "<seaborn.axisgrid.PairGrid at 0x25855eca940>"
      ]
     },
     "execution_count": 50,
     "metadata": {},
     "output_type": "execute_result"
    },
    {
     "data": {
      "image/png": "[encoded data removed]",
      "text/plain": [
       "<Figure size 288x288 with 1 Axes>"
      ]
     },
     "metadata": {},
     "output_type": "display_data"
    },
    {
     "data": {
      "image/png": "[encoded data removed]",
      "text/plain": [
       "<Figure size 288x288 with 1 Axes>"
      ]
     },
     "metadata": {},
     "output_type": "display_data"
    },
    {
     "data": {
      "image/png": "[encoded data removed]",
      "text/plain": [
       "<Figure size 288x288 with 1 Axes>"
      ]
     },
     "metadata": {},
     "output_type": "display_data"
    },
    {
     "data": {
      "image/png": "[encoded data removed]",
      "text/plain": [
       "<Figure size 288x288 with 1 Axes>"
      ]
     },
     "metadata": {},
     "output_type": "display_data"
    },
    {
     "data": {
      "image/png": "[encoded data removed]",
      "text/plain": [
       "<Figure size 288x288 with 1 Axes>"
      ]
     },
     "metadata": {},
     "output_type": "display_data"
    },
    {
     "data": {
      "image/png": "[encoded data removed]",
      "text/plain": [
       "<Figure size 288x288 with 1 Axes>"
      ]
     },
     "metadata": {},
     "output_type": "display_data"
    },
    {
     "data": {
      "image/png": "[encoded data removed]",
      "text/plain": [
       "<Figure size 288x288 with 1 Axes>"
      ]
     },
     "metadata": {},
     "output_type": "display_data"
    },
    {
     "data": {
      "image/png": "[encoded data removed]",
      "text/plain": [
       "<Figure size 288x288 with 1 Axes>"
      ]
     },
     "metadata": {},
     "output_type": "display_data"
    }
   ],
   "source": [
    "\n",
    "\n",
    "df_1 = df\n",
    "g1 = sns.PairGrid(df, y_vars=[\"Diagnosis\"], x_vars=[\"age\"], size=4)\n",
    "g1.map(sns.regplot, color=\"blue\")\n",
    "\n",
    "g2 = sns.PairGrid(df, y_vars=[\"Diagnosis\"], x_vars=[\"sex\"], size=4)\n",
    "g2.map(sns.regplot, color=\"red\")\n",
    "\n",
    "g = sns.PairGrid(df, y_vars=[\"Diagnosis\"], x_vars=[\"cp\"], size=4)\n",
    "g.map(sns.regplot, color=\"0.3\")\n",
    "\n",
    "gg = sns.PairGrid(df, y_vars=[\"Diagnosis\"], x_vars=[\"trestbps\"], size=4)\n",
    "gg.map(sns.regplot, color=\"green\")\n",
    "\n",
    "g1 = sns.PairGrid(df, y_vars=[\"Diagnosis\"], x_vars=[\"chol\"], size=4)\n",
    "g1.map(sns.regplot, color=\"blue\")\n",
    "\n",
    "g2 = sns.PairGrid(df, y_vars=[\"Diagnosis\"], x_vars=[\"fbs\"], size=4)\n",
    "g2.map(sns.regplot, color=\"red\")\n",
    "\n",
    "g = sns.PairGrid(df, y_vars=[\"Diagnosis\"], x_vars=[\"restecg\"], size=4)\n",
    "g.map(sns.regplot, color=\"0.3\")\n",
    "\n",
    "gg = sns.PairGrid(df, y_vars=[\"Diagnosis\"], x_vars=[\"thalach\"], size=4)\n",
    "gg.map(sns.regplot, color=\"green\")\n",
    "\n"
   ]
  },
  {
   "cell_type": "markdown",
   "metadata": {},
   "source": [
    "### BUILDING MODEL"
   ]
  },
  {
   "cell_type": "markdown",
   "metadata": {},
   "source": [
    "### MODEL1 :Decision Tree"
   ]
  },
  {
   "cell_type": "code",
   "execution_count": 51,
   "metadata": {},
   "outputs": [],
   "source": [
    "from sklearn.tree import DecisionTreeClassifier#import decision tree"
   ]
  },
  {
   "cell_type": "code",
   "execution_count": 52,
   "metadata": {},
   "outputs": [],
   "source": [
    "from sklearn.metrics import classification_report,confusion_matrix,accuracy_score"
   ]
  },
  {
   "cell_type": "code",
   "execution_count": 53,
   "metadata": {},
   "outputs": [],
   "source": [
    "clf=DecisionTreeClassifier()"
   ]
  },
  {
   "cell_type": "code",
   "execution_count": 54,
   "metadata": {},
   "outputs": [
    {
     "data": {
      "text/plain": [
       "DecisionTreeClassifier(class_weight=None, criterion='gini', max_depth=None,\n",
       "            max_features=None, max_leaf_nodes=None,\n",
       "            min_impurity_decrease=0.0, min_impurity_split=None,\n",
       "            min_samples_leaf=1, min_samples_split=2,\n",
       "            min_weight_fraction_leaf=0.0, presort=False, random_state=None,\n",
       "            splitter='best')"
      ]
     },
     "execution_count": 54,
     "metadata": {},
     "output_type": "execute_result"
    }
   ],
   "source": [
    "clf.fit(X_train,y_train)"
   ]
  },
  {
   "cell_type": "code",
   "execution_count": 55,
   "metadata": {},
   "outputs": [],
   "source": [
    "new_p=clf.predict(X_test)"
   ]
  },
  {
   "cell_type": "code",
   "execution_count": 56,
   "metadata": {},
   "outputs": [
    {
     "name": "stdout",
     "output_type": "stream",
     "text": [
      "Accuracy 0.797752808988764\n"
     ]
    }
   ],
   "source": [
    "print(\"Accuracy\",accuracy_score(y_test,new_p))"
   ]
  },
  {
   "cell_type": "markdown",
   "metadata": {},
   "source": [
    "### MODEL  2 :Random Forest Classifier"
   ]
  },
  {
   "cell_type": "code",
   "execution_count": 57,
   "metadata": {},
   "outputs": [],
   "source": [
    "from sklearn.ensemble import RandomForestClassifier"
   ]
  },
  {
   "cell_type": "code",
   "execution_count": 58,
   "metadata": {},
   "outputs": [],
   "source": [
    "clf=RandomForestClassifier(n_estimators=100,random_state=50)"
   ]
  },
  {
   "cell_type": "code",
   "execution_count": 59,
   "metadata": {},
   "outputs": [],
   "source": [
    "clf=RandomForestClassifier(n_estimators=100,random_state=50)"
   ]
  },
  {
   "cell_type": "code",
   "execution_count": 60,
   "metadata": {},
   "outputs": [],
   "source": [
    "clf=RandomForestClassifier(n_estimators=100,random_state=50)"
   ]
  },
  {
   "cell_type": "code",
   "execution_count": 61,
   "metadata": {},
   "outputs": [
    {
     "data": {
      "text/plain": [
       "RandomForestClassifier(bootstrap=True, class_weight=None, criterion='gini',\n",
       "            max_depth=None, max_features='auto', max_leaf_nodes=None,\n",
       "            min_impurity_decrease=0.0, min_impurity_split=None,\n",
       "            min_samples_leaf=1, min_samples_split=2,\n",
       "            min_weight_fraction_leaf=0.0, n_estimators=100, n_jobs=1,\n",
       "            oob_score=False, random_state=50, verbose=0, warm_start=False)"
      ]
     },
     "execution_count": 61,
     "metadata": {},
     "output_type": "execute_result"
    }
   ],
   "source": [
    "clf.fit(X_train,y_train)"
   ]
  },
  {
   "cell_type": "code",
   "execution_count": 62,
   "metadata": {},
   "outputs": [],
   "source": [
    "new_P=clf.predict(X_test)"
   ]
  },
  {
   "cell_type": "code",
   "execution_count": 63,
   "metadata": {},
   "outputs": [
    {
     "name": "stdout",
     "output_type": "stream",
     "text": [
      "Accuracy 0.8202247191011236\n"
     ]
    }
   ],
   "source": [
    "print(\"Accuracy\",accuracy_score(y_test,new_P))"
   ]
  },
  {
   "cell_type": "markdown",
   "metadata": {},
   "source": [
    "### MODEL  3 : KNN"
   ]
  },
  {
   "cell_type": "code",
   "execution_count": 64,
   "metadata": {},
   "outputs": [],
   "source": [
    "\n",
    "from sklearn.neighbors import KNeighborsClassifier"
   ]
  },
  {
   "cell_type": "code",
   "execution_count": 65,
   "metadata": {},
   "outputs": [],
   "source": [
    "model=KNeighborsClassifier(n_neighbors=3)"
   ]
  },
  {
   "cell_type": "code",
   "execution_count": 66,
   "metadata": {},
   "outputs": [
    {
     "data": {
      "text/plain": [
       "KNeighborsClassifier(algorithm='auto', leaf_size=30, metric='minkowski',\n",
       "           metric_params=None, n_jobs=1, n_neighbors=3, p=2,\n",
       "           weights='uniform')"
      ]
     },
     "execution_count": 66,
     "metadata": {},
     "output_type": "execute_result"
    }
   ],
   "source": [
    "model.fit(X_train,y_train)"
   ]
  },
  {
   "cell_type": "code",
   "execution_count": 67,
   "metadata": {},
   "outputs": [],
   "source": [
    "new_p=model.predict(X_test)"
   ]
  },
  {
   "cell_type": "code",
   "execution_count": 68,
   "metadata": {},
   "outputs": [
    {
     "name": "stdout",
     "output_type": "stream",
     "text": [
      "[0 1 1 0 0 1 0 0 0 0 0 0 0 0 0 1 1 0 0 0 0 0 1 0 0 1 0 0 0 1 1 0 1 0 0 0 1\n",
      " 1 0 1 0 1 0 0 0 1 0 0 0 0 0 0 0 0 0 1 1 0 1 0 1 0 0 0 0 1 0 0 1 0 1 0 1 0\n",
      " 1 0 1 0 0 0 0 0 0 0 1 1 1 0 1]\n"
     ]
    }
   ],
   "source": [
    "print(new_p)"
   ]
  },
  {
   "cell_type": "code",
   "execution_count": 69,
   "metadata": {},
   "outputs": [],
   "source": [
    "from sklearn.metrics import classification_report,confusion_matrix,accuracy_score"
   ]
  },
  {
   "cell_type": "code",
   "execution_count": 70,
   "metadata": {},
   "outputs": [
    {
     "name": "stdout",
     "output_type": "stream",
     "text": [
      "Accuracy: 0.651685393258427\n"
     ]
    }
   ],
   "source": [
    "print(\"Accuracy:\",accuracy_score(y_test,new_p))"
   ]
  },
  {
   "cell_type": "markdown",
   "metadata": {},
   "source": [
    "### MODEL 4 :SVM"
   ]
  },
  {
   "cell_type": "code",
   "execution_count": 71,
   "metadata": {},
   "outputs": [],
   "source": [
    "from sklearn.svm import SVC # \"Support Vector Classifier\" \n"
   ]
  },
  {
   "cell_type": "code",
   "execution_count": 72,
   "metadata": {},
   "outputs": [
    {
     "data": {
      "text/plain": [
       "SVC(C=1.0, cache_size=200, class_weight=None, coef0=0.0,\n",
       "  decision_function_shape='ovr', degree=3, gamma='auto', kernel='linear',\n",
       "  max_iter=-1, probability=False, random_state=None, shrinking=True,\n",
       "  tol=0.001, verbose=False)"
      ]
     },
     "execution_count": 72,
     "metadata": {},
     "output_type": "execute_result"
    }
   ],
   "source": [
    "clf = SVC(kernel='linear') \n",
    "clf.fit(X_train,y_train)"
   ]
  },
  {
   "cell_type": "code",
   "execution_count": 73,
   "metadata": {},
   "outputs": [],
   "source": [
    "new_p=clf.predict(X_test)"
   ]
  },
  {
   "cell_type": "code",
   "execution_count": 74,
   "metadata": {},
   "outputs": [
    {
     "name": "stdout",
     "output_type": "stream",
     "text": [
      "[0 0 0 1 0 1 1 1 0 0 0 0 1 0 0 1 1 0 0 0 0 1 0 0 0 0 0 0 1 1 0 0 1 0 0 0 0\n",
      " 1 1 1 0 1 0 1 0 0 0 0 1 1 0 0 1 0 0 1 1 1 0 0 0 0 0 0 0 0 0 0 1 0 1 0 0 0\n",
      " 0 0 1 0 0 1 0 0 0 1 0 1 0 0 0]\n"
     ]
    }
   ],
   "source": [
    "print(new_p)"
   ]
  },
  {
   "cell_type": "code",
   "execution_count": 75,
   "metadata": {},
   "outputs": [
    {
     "name": "stdout",
     "output_type": "stream",
     "text": [
      "Accuracy: 0.797752808988764\n"
     ]
    }
   ],
   "source": [
    "print(\"Accuracy:\",accuracy_score(y_test,new_p))"
   ]
  },
  {
   "cell_type": "code",
   "execution_count": null,
   "metadata": {},
   "outputs": [],
   "source": []
  }
 ],
 "metadata": {
  "kernelspec": {
   "display_name": "Python 3",
   "language": "python",
   "name": "python3"
  },
  "language_info": {
   "codemirror_mode": {
    "name": "ipython",
    "version": 3
   },
   "file_extension": ".py",
   "mimetype": "text/x-python",
   "name": "python",
   "nbconvert_exporter": "python",
   "pygments_lexer": "ipython3",
   "version": "3.7.3"
  }
 },
 "nbformat": 4,
 "nbformat_minor": 2
}
